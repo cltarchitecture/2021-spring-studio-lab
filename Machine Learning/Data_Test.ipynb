{
 "metadata": {
  "language_info": {
   "codemirror_mode": {
    "name": "ipython",
    "version": 3
   },
   "file_extension": ".py",
   "mimetype": "text/x-python",
   "name": "python",
   "nbconvert_exporter": "python",
   "pygments_lexer": "ipython3",
   "version": "3.8.5-final"
  },
  "orig_nbformat": 2,
  "kernelspec": {
   "name": "python3",
   "display_name": "Python 3.8.5 64-bit",
   "metadata": {
    "interpreter": {
     "hash": "9dbbfce714fcc97082a3e83293afdedf0f47f6ad2321989dc7a5a797e44e464e"
    }
   }
  }
 },
 "nbformat": 4,
 "nbformat_minor": 2,
 "cells": [
  {
   "cell_type": "code",
   "execution_count": 1,
   "metadata": {},
   "outputs": [],
   "source": [
    "import pandas as pd\n",
    "import numpy as np\n",
    "import shap\n",
    "\n",
    "from sklearn.naive_bayes import GaussianNB  \n",
    "from sklearn.model_selection import train_test_split\n",
    "from sklearn.model_selection import cross_val_score\n",
    "from sklearn.metrics import classification_report, confusion_matrix\n",
    "from sklearn.model_selection import StratifiedKFold\n",
    "from sklearn.metrics import accuracy_score\n",
    "\n",
    "import seaborn as sns\n",
    "import matplotlib.pyplot as plt"
   ]
  },
  {
   "cell_type": "code",
   "execution_count": 2,
   "metadata": {},
   "outputs": [
    {
     "output_type": "stream",
     "name": "stdout",
     "text": [
      "c:\\Spring 2021\\Studio Lab II\\arch7211-spring2021\\data\\room_info.csv\n"
     ]
    },
    {
     "output_type": "execute_result",
     "data": {
      "text/plain": [
       "   type_cleaned  path  type  classes  floor_index  num_sides  area  \\\n",
       "2       CarPort   279   279      279          279        279   279   \n",
       "6        Garage   414   414      414          414        414   414   \n",
       "4        Dining   954   954      954          954        954   954   \n",
       "12      Utility  1489  1489     1489         1489       1489  1489   \n",
       "11      Storage  1953  1953     1953         1953       1953  1953   \n",
       "10         Room  2116  2116     2116         2116       2116  2116   \n",
       "3        Closet  3041  3041     3041         3041       3041  3041   \n",
       "8    LivingRoom  4428  4428     4428         4428       4428  4428   \n",
       "7       Kitchen  4548  4548     4548         4548       4548  4548   \n",
       "5         Entry  6050  6050     6050         6050       6050  6050   \n",
       "0          Bath  7288  7288     7288         7288       7288  7288   \n",
       "9       Outdoor  7852  7852     7852         7852       7852  7852   \n",
       "1       Bedroom  7993  7993     7993         7993       7993  7993   \n",
       "\n",
       "    proportion_floor_area  perimeter  compactness  ...  contains_Sink  \\\n",
       "2                     279        279          279  ...            279   \n",
       "6                     414        414          414  ...            414   \n",
       "4                     954        954          954  ...            954   \n",
       "12                   1489       1489         1489  ...           1489   \n",
       "11                   1953       1953         1953  ...           1953   \n",
       "10                   2116       2116         2116  ...           2116   \n",
       "3                    3041       3041         3041  ...           3041   \n",
       "8                    4428       4428         4428  ...           4428   \n",
       "7                    4548       4548         4548  ...           4548   \n",
       "5                    6050       6050         6050  ...           6050   \n",
       "0                    7288       7288         7288  ...           7288   \n",
       "9                    7852       7852         7852  ...           7852   \n",
       "1                    7993       7993         7993  ...           7993   \n",
       "\n",
       "    contains_SpaceForAppliance  contains_Stove  contains_Toilet  \\\n",
       "2                          279             279              279   \n",
       "6                          414             414              414   \n",
       "4                          954             954              954   \n",
       "12                        1489            1489             1489   \n",
       "11                        1953            1953             1953   \n",
       "10                        2116            2116             2116   \n",
       "3                         3041            3041             3041   \n",
       "8                         4428            4428             4428   \n",
       "7                         4548            4548             4548   \n",
       "5                         6050            6050             6050   \n",
       "0                         7288            7288             7288   \n",
       "9                         7852            7852             7852   \n",
       "1                         7993            7993             7993   \n",
       "\n",
       "    contains_TumbleDryer  contains_Urinal  contains_WallCabinet  \\\n",
       "2                    279              279                   279   \n",
       "6                    414              414                   414   \n",
       "4                    954              954                   954   \n",
       "12                  1489             1489                  1489   \n",
       "11                  1953             1953                  1953   \n",
       "10                  2116             2116                  2116   \n",
       "3                   3041             3041                  3041   \n",
       "8                   4428             4428                  4428   \n",
       "7                   4548             4548                  4548   \n",
       "5                   6050             6050                  6050   \n",
       "0                   7288             7288                  7288   \n",
       "9                   7852             7852                  7852   \n",
       "1                   7993             7993                  7993   \n",
       "\n",
       "    contains_WashingMachine  contains_WaterTap  exclude  \n",
       "2                       279                279      279  \n",
       "6                       414                414      414  \n",
       "4                       954                954      954  \n",
       "12                     1489               1489     1489  \n",
       "11                     1953               1953     1953  \n",
       "10                     2116               2116     2116  \n",
       "3                      3041               3041     3041  \n",
       "8                      4428               4428     4428  \n",
       "7                      4548               4548     4548  \n",
       "5                      6050               6050     6050  \n",
       "0                      7288               7288     7288  \n",
       "9                      7852               7852     7852  \n",
       "1                      7993               7993     7993  \n",
       "\n",
       "[13 rows x 112 columns]"
      ],
      "text/html": "<div>\n<style scoped>\n    .dataframe tbody tr th:only-of-type {\n        vertical-align: middle;\n    }\n\n    .dataframe tbody tr th {\n        vertical-align: top;\n    }\n\n    .dataframe thead th {\n        text-align: right;\n    }\n</style>\n<table border=\"1\" class=\"dataframe\">\n  <thead>\n    <tr style=\"text-align: right;\">\n      <th></th>\n      <th>type_cleaned</th>\n      <th>path</th>\n      <th>type</th>\n      <th>classes</th>\n      <th>floor_index</th>\n      <th>num_sides</th>\n      <th>area</th>\n      <th>proportion_floor_area</th>\n      <th>perimeter</th>\n      <th>compactness</th>\n      <th>...</th>\n      <th>contains_Sink</th>\n      <th>contains_SpaceForAppliance</th>\n      <th>contains_Stove</th>\n      <th>contains_Toilet</th>\n      <th>contains_TumbleDryer</th>\n      <th>contains_Urinal</th>\n      <th>contains_WallCabinet</th>\n      <th>contains_WashingMachine</th>\n      <th>contains_WaterTap</th>\n      <th>exclude</th>\n    </tr>\n  </thead>\n  <tbody>\n    <tr>\n      <th>2</th>\n      <td>CarPort</td>\n      <td>279</td>\n      <td>279</td>\n      <td>279</td>\n      <td>279</td>\n      <td>279</td>\n      <td>279</td>\n      <td>279</td>\n      <td>279</td>\n      <td>279</td>\n      <td>...</td>\n      <td>279</td>\n      <td>279</td>\n      <td>279</td>\n      <td>279</td>\n      <td>279</td>\n      <td>279</td>\n      <td>279</td>\n      <td>279</td>\n      <td>279</td>\n      <td>279</td>\n    </tr>\n    <tr>\n      <th>6</th>\n      <td>Garage</td>\n      <td>414</td>\n      <td>414</td>\n      <td>414</td>\n      <td>414</td>\n      <td>414</td>\n      <td>414</td>\n      <td>414</td>\n      <td>414</td>\n      <td>414</td>\n      <td>...</td>\n      <td>414</td>\n      <td>414</td>\n      <td>414</td>\n      <td>414</td>\n      <td>414</td>\n      <td>414</td>\n      <td>414</td>\n      <td>414</td>\n      <td>414</td>\n      <td>414</td>\n    </tr>\n    <tr>\n      <th>4</th>\n      <td>Dining</td>\n      <td>954</td>\n      <td>954</td>\n      <td>954</td>\n      <td>954</td>\n      <td>954</td>\n      <td>954</td>\n      <td>954</td>\n      <td>954</td>\n      <td>954</td>\n      <td>...</td>\n      <td>954</td>\n      <td>954</td>\n      <td>954</td>\n      <td>954</td>\n      <td>954</td>\n      <td>954</td>\n      <td>954</td>\n      <td>954</td>\n      <td>954</td>\n      <td>954</td>\n    </tr>\n    <tr>\n      <th>12</th>\n      <td>Utility</td>\n      <td>1489</td>\n      <td>1489</td>\n      <td>1489</td>\n      <td>1489</td>\n      <td>1489</td>\n      <td>1489</td>\n      <td>1489</td>\n      <td>1489</td>\n      <td>1489</td>\n      <td>...</td>\n      <td>1489</td>\n      <td>1489</td>\n      <td>1489</td>\n      <td>1489</td>\n      <td>1489</td>\n      <td>1489</td>\n      <td>1489</td>\n      <td>1489</td>\n      <td>1489</td>\n      <td>1489</td>\n    </tr>\n    <tr>\n      <th>11</th>\n      <td>Storage</td>\n      <td>1953</td>\n      <td>1953</td>\n      <td>1953</td>\n      <td>1953</td>\n      <td>1953</td>\n      <td>1953</td>\n      <td>1953</td>\n      <td>1953</td>\n      <td>1953</td>\n      <td>...</td>\n      <td>1953</td>\n      <td>1953</td>\n      <td>1953</td>\n      <td>1953</td>\n      <td>1953</td>\n      <td>1953</td>\n      <td>1953</td>\n      <td>1953</td>\n      <td>1953</td>\n      <td>1953</td>\n    </tr>\n    <tr>\n      <th>10</th>\n      <td>Room</td>\n      <td>2116</td>\n      <td>2116</td>\n      <td>2116</td>\n      <td>2116</td>\n      <td>2116</td>\n      <td>2116</td>\n      <td>2116</td>\n      <td>2116</td>\n      <td>2116</td>\n      <td>...</td>\n      <td>2116</td>\n      <td>2116</td>\n      <td>2116</td>\n      <td>2116</td>\n      <td>2116</td>\n      <td>2116</td>\n      <td>2116</td>\n      <td>2116</td>\n      <td>2116</td>\n      <td>2116</td>\n    </tr>\n    <tr>\n      <th>3</th>\n      <td>Closet</td>\n      <td>3041</td>\n      <td>3041</td>\n      <td>3041</td>\n      <td>3041</td>\n      <td>3041</td>\n      <td>3041</td>\n      <td>3041</td>\n      <td>3041</td>\n      <td>3041</td>\n      <td>...</td>\n      <td>3041</td>\n      <td>3041</td>\n      <td>3041</td>\n      <td>3041</td>\n      <td>3041</td>\n      <td>3041</td>\n      <td>3041</td>\n      <td>3041</td>\n      <td>3041</td>\n      <td>3041</td>\n    </tr>\n    <tr>\n      <th>8</th>\n      <td>LivingRoom</td>\n      <td>4428</td>\n      <td>4428</td>\n      <td>4428</td>\n      <td>4428</td>\n      <td>4428</td>\n      <td>4428</td>\n      <td>4428</td>\n      <td>4428</td>\n      <td>4428</td>\n      <td>...</td>\n      <td>4428</td>\n      <td>4428</td>\n      <td>4428</td>\n      <td>4428</td>\n      <td>4428</td>\n      <td>4428</td>\n      <td>4428</td>\n      <td>4428</td>\n      <td>4428</td>\n      <td>4428</td>\n    </tr>\n    <tr>\n      <th>7</th>\n      <td>Kitchen</td>\n      <td>4548</td>\n      <td>4548</td>\n      <td>4548</td>\n      <td>4548</td>\n      <td>4548</td>\n      <td>4548</td>\n      <td>4548</td>\n      <td>4548</td>\n      <td>4548</td>\n      <td>...</td>\n      <td>4548</td>\n      <td>4548</td>\n      <td>4548</td>\n      <td>4548</td>\n      <td>4548</td>\n      <td>4548</td>\n      <td>4548</td>\n      <td>4548</td>\n      <td>4548</td>\n      <td>4548</td>\n    </tr>\n    <tr>\n      <th>5</th>\n      <td>Entry</td>\n      <td>6050</td>\n      <td>6050</td>\n      <td>6050</td>\n      <td>6050</td>\n      <td>6050</td>\n      <td>6050</td>\n      <td>6050</td>\n      <td>6050</td>\n      <td>6050</td>\n      <td>...</td>\n      <td>6050</td>\n      <td>6050</td>\n      <td>6050</td>\n      <td>6050</td>\n      <td>6050</td>\n      <td>6050</td>\n      <td>6050</td>\n      <td>6050</td>\n      <td>6050</td>\n      <td>6050</td>\n    </tr>\n    <tr>\n      <th>0</th>\n      <td>Bath</td>\n      <td>7288</td>\n      <td>7288</td>\n      <td>7288</td>\n      <td>7288</td>\n      <td>7288</td>\n      <td>7288</td>\n      <td>7288</td>\n      <td>7288</td>\n      <td>7288</td>\n      <td>...</td>\n      <td>7288</td>\n      <td>7288</td>\n      <td>7288</td>\n      <td>7288</td>\n      <td>7288</td>\n      <td>7288</td>\n      <td>7288</td>\n      <td>7288</td>\n      <td>7288</td>\n      <td>7288</td>\n    </tr>\n    <tr>\n      <th>9</th>\n      <td>Outdoor</td>\n      <td>7852</td>\n      <td>7852</td>\n      <td>7852</td>\n      <td>7852</td>\n      <td>7852</td>\n      <td>7852</td>\n      <td>7852</td>\n      <td>7852</td>\n      <td>7852</td>\n      <td>...</td>\n      <td>7852</td>\n      <td>7852</td>\n      <td>7852</td>\n      <td>7852</td>\n      <td>7852</td>\n      <td>7852</td>\n      <td>7852</td>\n      <td>7852</td>\n      <td>7852</td>\n      <td>7852</td>\n    </tr>\n    <tr>\n      <th>1</th>\n      <td>Bedroom</td>\n      <td>7993</td>\n      <td>7993</td>\n      <td>7993</td>\n      <td>7993</td>\n      <td>7993</td>\n      <td>7993</td>\n      <td>7993</td>\n      <td>7993</td>\n      <td>7993</td>\n      <td>...</td>\n      <td>7993</td>\n      <td>7993</td>\n      <td>7993</td>\n      <td>7993</td>\n      <td>7993</td>\n      <td>7993</td>\n      <td>7993</td>\n      <td>7993</td>\n      <td>7993</td>\n      <td>7993</td>\n    </tr>\n  </tbody>\n</table>\n<p>13 rows × 112 columns</p>\n</div>"
     },
     "metadata": {},
     "execution_count": 2
    }
   ],
   "source": [
    "# Import data\n",
    "from os.path import dirname, join\n",
    "from pathlib import Path\n",
    "# ROOT_DIR = dirname(os.path.abspath('ARCH7211-SPRING2021')) # This is your Project Root \n",
    "ROOT_DIR = dirname(os.path.abspath('ARCH7211-SPRING2021')) # This is your Project Root\n",
    "data_PATH = join(ROOT_DIR[:-16],\"data\",\"room_info.csv\")  # requires `import os`\n",
    "print(data_PATH)\n",
    "# input data\n",
    "data_raw = pd.read_csv(data_PATH)\n",
    "\n",
    "#Cleaning data and feature engineering\n",
    "exclusion = [\"Undefined\",\"UserDefined\",\"Other\",\"Elevated\"]\n",
    "merge = {\n",
    "    \"Sauna\": \"Bath\",\n",
    "    \"Den\":\"LivingRoom\",\n",
    "    \"Alcove\":\"LivingRoom\",\n",
    "    \"Library\": \"Room\",\n",
    "    \"RecreationRoom\":\"Room\",\n",
    "    \"DressingRoom\":'Closet',\n",
    "    \"Attic\" : \"Storage\",\n",
    "    \"Office\" : \"Room\",\n",
    "    \"TechnicalRoom\":\"Utility\",\n",
    "    \"DraughtLobby\" : \"Entry\",\n",
    "    \"Hall\" : \"Entry\",\n",
    "    \"Basement\" : \"Storage\"\n",
    "}\n",
    "\n",
    "data_raw[\"type_cleaned\"] = data_raw[\"type\"].apply(lambda x: merge.get(x,x))\n",
    "data_raw[\"exclude\"] = ~data_raw[\"type\"].isin(exclusion)\n",
    "\n",
    "data_cleaned = data_raw[~data_raw[\"type\"].isin(exclusion)]\n",
    "\n",
    "data_cleaned.groupby(\"type_cleaned\",as_index=False).count().sort_values(\"path\")\n"
   ]
  },
  {
   "cell_type": "code",
   "execution_count": 3,
   "metadata": {},
   "outputs": [
    {
     "output_type": "stream",
     "name": "stdout",
     "text": [
      "<class 'pandas.core.frame.DataFrame'>\nInt64Index: 48405 entries, 0 to 61393\nColumns: 112 entries, path to exclude\ndtypes: bool(1), float64(5), int64(99), object(7)\nmemory usage: 41.4+ MB\n"
     ]
    }
   ],
   "source": [
    "data_cleaned.info()"
   ]
  },
  {
   "cell_type": "code",
   "execution_count": 4,
   "metadata": {},
   "outputs": [
    {
     "output_type": "execute_result",
     "data": {
      "text/plain": [
       "48405"
      ]
     },
     "metadata": {},
     "execution_count": 4
    }
   ],
   "source": [
    "len(data_cleaned)"
   ]
  },
  {
   "cell_type": "code",
   "execution_count": 6,
   "metadata": {},
   "outputs": [
    {
     "output_type": "execute_result",
     "data": {
      "text/plain": [
       "   type_cleaned  path  type  classes  floor_index  num_sides  area  \\\n",
       "0          Bath  7288  7288     7288         7288       7288  7288   \n",
       "1       Bedroom  7993  7993     7993         7993       7993  7993   \n",
       "2       CarPort   279   279      279          279        279   279   \n",
       "3        Closet  3041  3041     3041         3041       3041  3041   \n",
       "4        Dining   954   954      954          954        954   954   \n",
       "5         Entry  6050  6050     6050         6050       6050  6050   \n",
       "6        Garage   414   414      414          414        414   414   \n",
       "7       Kitchen  4548  4548     4548         4548       4548  4548   \n",
       "8    LivingRoom  4428  4428     4428         4428       4428  4428   \n",
       "9       Outdoor  7852  7852     7852         7852       7852  7852   \n",
       "10         Room  2116  2116     2116         2116       2116  2116   \n",
       "11      Storage  1953  1953     1953         1953       1953  1953   \n",
       "12      Utility  1489  1489     1489         1489       1489  1489   \n",
       "\n",
       "    proportion_floor_area  perimeter  compactness  ...  contains_Sink  \\\n",
       "0                    7288       7288         7288  ...           7288   \n",
       "1                    7993       7993         7993  ...           7993   \n",
       "2                     279        279          279  ...            279   \n",
       "3                    3041       3041         3041  ...           3041   \n",
       "4                     954        954          954  ...            954   \n",
       "5                    6050       6050         6050  ...           6050   \n",
       "6                     414        414          414  ...            414   \n",
       "7                    4548       4548         4548  ...           4548   \n",
       "8                    4428       4428         4428  ...           4428   \n",
       "9                    7852       7852         7852  ...           7852   \n",
       "10                   2116       2116         2116  ...           2116   \n",
       "11                   1953       1953         1953  ...           1953   \n",
       "12                   1489       1489         1489  ...           1489   \n",
       "\n",
       "    contains_SpaceForAppliance  contains_Stove  contains_Toilet  \\\n",
       "0                         7288            7288             7288   \n",
       "1                         7993            7993             7993   \n",
       "2                          279             279              279   \n",
       "3                         3041            3041             3041   \n",
       "4                          954             954              954   \n",
       "5                         6050            6050             6050   \n",
       "6                          414             414              414   \n",
       "7                         4548            4548             4548   \n",
       "8                         4428            4428             4428   \n",
       "9                         7852            7852             7852   \n",
       "10                        2116            2116             2116   \n",
       "11                        1953            1953             1953   \n",
       "12                        1489            1489             1489   \n",
       "\n",
       "    contains_TumbleDryer  contains_Urinal  contains_WallCabinet  \\\n",
       "0                   7288             7288                  7288   \n",
       "1                   7993             7993                  7993   \n",
       "2                    279              279                   279   \n",
       "3                   3041             3041                  3041   \n",
       "4                    954              954                   954   \n",
       "5                   6050             6050                  6050   \n",
       "6                    414              414                   414   \n",
       "7                   4548             4548                  4548   \n",
       "8                   4428             4428                  4428   \n",
       "9                   7852             7852                  7852   \n",
       "10                  2116             2116                  2116   \n",
       "11                  1953             1953                  1953   \n",
       "12                  1489             1489                  1489   \n",
       "\n",
       "    contains_WashingMachine  contains_WaterTap  exclude  \n",
       "0                      7288               7288     7288  \n",
       "1                      7993               7993     7993  \n",
       "2                       279                279      279  \n",
       "3                      3041               3041     3041  \n",
       "4                       954                954      954  \n",
       "5                      6050               6050     6050  \n",
       "6                       414                414      414  \n",
       "7                      4548               4548     4548  \n",
       "8                      4428               4428     4428  \n",
       "9                      7852               7852     7852  \n",
       "10                     2116               2116     2116  \n",
       "11                     1953               1953     1953  \n",
       "12                     1489               1489     1489  \n",
       "\n",
       "[13 rows x 112 columns]"
      ],
      "text/html": "<div>\n<style scoped>\n    .dataframe tbody tr th:only-of-type {\n        vertical-align: middle;\n    }\n\n    .dataframe tbody tr th {\n        vertical-align: top;\n    }\n\n    .dataframe thead th {\n        text-align: right;\n    }\n</style>\n<table border=\"1\" class=\"dataframe\">\n  <thead>\n    <tr style=\"text-align: right;\">\n      <th></th>\n      <th>type_cleaned</th>\n      <th>path</th>\n      <th>type</th>\n      <th>classes</th>\n      <th>floor_index</th>\n      <th>num_sides</th>\n      <th>area</th>\n      <th>proportion_floor_area</th>\n      <th>perimeter</th>\n      <th>compactness</th>\n      <th>...</th>\n      <th>contains_Sink</th>\n      <th>contains_SpaceForAppliance</th>\n      <th>contains_Stove</th>\n      <th>contains_Toilet</th>\n      <th>contains_TumbleDryer</th>\n      <th>contains_Urinal</th>\n      <th>contains_WallCabinet</th>\n      <th>contains_WashingMachine</th>\n      <th>contains_WaterTap</th>\n      <th>exclude</th>\n    </tr>\n  </thead>\n  <tbody>\n    <tr>\n      <th>0</th>\n      <td>Bath</td>\n      <td>7288</td>\n      <td>7288</td>\n      <td>7288</td>\n      <td>7288</td>\n      <td>7288</td>\n      <td>7288</td>\n      <td>7288</td>\n      <td>7288</td>\n      <td>7288</td>\n      <td>...</td>\n      <td>7288</td>\n      <td>7288</td>\n      <td>7288</td>\n      <td>7288</td>\n      <td>7288</td>\n      <td>7288</td>\n      <td>7288</td>\n      <td>7288</td>\n      <td>7288</td>\n      <td>7288</td>\n    </tr>\n    <tr>\n      <th>1</th>\n      <td>Bedroom</td>\n      <td>7993</td>\n      <td>7993</td>\n      <td>7993</td>\n      <td>7993</td>\n      <td>7993</td>\n      <td>7993</td>\n      <td>7993</td>\n      <td>7993</td>\n      <td>7993</td>\n      <td>...</td>\n      <td>7993</td>\n      <td>7993</td>\n      <td>7993</td>\n      <td>7993</td>\n      <td>7993</td>\n      <td>7993</td>\n      <td>7993</td>\n      <td>7993</td>\n      <td>7993</td>\n      <td>7993</td>\n    </tr>\n    <tr>\n      <th>2</th>\n      <td>CarPort</td>\n      <td>279</td>\n      <td>279</td>\n      <td>279</td>\n      <td>279</td>\n      <td>279</td>\n      <td>279</td>\n      <td>279</td>\n      <td>279</td>\n      <td>279</td>\n      <td>...</td>\n      <td>279</td>\n      <td>279</td>\n      <td>279</td>\n      <td>279</td>\n      <td>279</td>\n      <td>279</td>\n      <td>279</td>\n      <td>279</td>\n      <td>279</td>\n      <td>279</td>\n    </tr>\n    <tr>\n      <th>3</th>\n      <td>Closet</td>\n      <td>3041</td>\n      <td>3041</td>\n      <td>3041</td>\n      <td>3041</td>\n      <td>3041</td>\n      <td>3041</td>\n      <td>3041</td>\n      <td>3041</td>\n      <td>3041</td>\n      <td>...</td>\n      <td>3041</td>\n      <td>3041</td>\n      <td>3041</td>\n      <td>3041</td>\n      <td>3041</td>\n      <td>3041</td>\n      <td>3041</td>\n      <td>3041</td>\n      <td>3041</td>\n      <td>3041</td>\n    </tr>\n    <tr>\n      <th>4</th>\n      <td>Dining</td>\n      <td>954</td>\n      <td>954</td>\n      <td>954</td>\n      <td>954</td>\n      <td>954</td>\n      <td>954</td>\n      <td>954</td>\n      <td>954</td>\n      <td>954</td>\n      <td>...</td>\n      <td>954</td>\n      <td>954</td>\n      <td>954</td>\n      <td>954</td>\n      <td>954</td>\n      <td>954</td>\n      <td>954</td>\n      <td>954</td>\n      <td>954</td>\n      <td>954</td>\n    </tr>\n    <tr>\n      <th>5</th>\n      <td>Entry</td>\n      <td>6050</td>\n      <td>6050</td>\n      <td>6050</td>\n      <td>6050</td>\n      <td>6050</td>\n      <td>6050</td>\n      <td>6050</td>\n      <td>6050</td>\n      <td>6050</td>\n      <td>...</td>\n      <td>6050</td>\n      <td>6050</td>\n      <td>6050</td>\n      <td>6050</td>\n      <td>6050</td>\n      <td>6050</td>\n      <td>6050</td>\n      <td>6050</td>\n      <td>6050</td>\n      <td>6050</td>\n    </tr>\n    <tr>\n      <th>6</th>\n      <td>Garage</td>\n      <td>414</td>\n      <td>414</td>\n      <td>414</td>\n      <td>414</td>\n      <td>414</td>\n      <td>414</td>\n      <td>414</td>\n      <td>414</td>\n      <td>414</td>\n      <td>...</td>\n      <td>414</td>\n      <td>414</td>\n      <td>414</td>\n      <td>414</td>\n      <td>414</td>\n      <td>414</td>\n      <td>414</td>\n      <td>414</td>\n      <td>414</td>\n      <td>414</td>\n    </tr>\n    <tr>\n      <th>7</th>\n      <td>Kitchen</td>\n      <td>4548</td>\n      <td>4548</td>\n      <td>4548</td>\n      <td>4548</td>\n      <td>4548</td>\n      <td>4548</td>\n      <td>4548</td>\n      <td>4548</td>\n      <td>4548</td>\n      <td>...</td>\n      <td>4548</td>\n      <td>4548</td>\n      <td>4548</td>\n      <td>4548</td>\n      <td>4548</td>\n      <td>4548</td>\n      <td>4548</td>\n      <td>4548</td>\n      <td>4548</td>\n      <td>4548</td>\n    </tr>\n    <tr>\n      <th>8</th>\n      <td>LivingRoom</td>\n      <td>4428</td>\n      <td>4428</td>\n      <td>4428</td>\n      <td>4428</td>\n      <td>4428</td>\n      <td>4428</td>\n      <td>4428</td>\n      <td>4428</td>\n      <td>4428</td>\n      <td>...</td>\n      <td>4428</td>\n      <td>4428</td>\n      <td>4428</td>\n      <td>4428</td>\n      <td>4428</td>\n      <td>4428</td>\n      <td>4428</td>\n      <td>4428</td>\n      <td>4428</td>\n      <td>4428</td>\n    </tr>\n    <tr>\n      <th>9</th>\n      <td>Outdoor</td>\n      <td>7852</td>\n      <td>7852</td>\n      <td>7852</td>\n      <td>7852</td>\n      <td>7852</td>\n      <td>7852</td>\n      <td>7852</td>\n      <td>7852</td>\n      <td>7852</td>\n      <td>...</td>\n      <td>7852</td>\n      <td>7852</td>\n      <td>7852</td>\n      <td>7852</td>\n      <td>7852</td>\n      <td>7852</td>\n      <td>7852</td>\n      <td>7852</td>\n      <td>7852</td>\n      <td>7852</td>\n    </tr>\n    <tr>\n      <th>10</th>\n      <td>Room</td>\n      <td>2116</td>\n      <td>2116</td>\n      <td>2116</td>\n      <td>2116</td>\n      <td>2116</td>\n      <td>2116</td>\n      <td>2116</td>\n      <td>2116</td>\n      <td>2116</td>\n      <td>...</td>\n      <td>2116</td>\n      <td>2116</td>\n      <td>2116</td>\n      <td>2116</td>\n      <td>2116</td>\n      <td>2116</td>\n      <td>2116</td>\n      <td>2116</td>\n      <td>2116</td>\n      <td>2116</td>\n    </tr>\n    <tr>\n      <th>11</th>\n      <td>Storage</td>\n      <td>1953</td>\n      <td>1953</td>\n      <td>1953</td>\n      <td>1953</td>\n      <td>1953</td>\n      <td>1953</td>\n      <td>1953</td>\n      <td>1953</td>\n      <td>1953</td>\n      <td>...</td>\n      <td>1953</td>\n      <td>1953</td>\n      <td>1953</td>\n      <td>1953</td>\n      <td>1953</td>\n      <td>1953</td>\n      <td>1953</td>\n      <td>1953</td>\n      <td>1953</td>\n      <td>1953</td>\n    </tr>\n    <tr>\n      <th>12</th>\n      <td>Utility</td>\n      <td>1489</td>\n      <td>1489</td>\n      <td>1489</td>\n      <td>1489</td>\n      <td>1489</td>\n      <td>1489</td>\n      <td>1489</td>\n      <td>1489</td>\n      <td>1489</td>\n      <td>...</td>\n      <td>1489</td>\n      <td>1489</td>\n      <td>1489</td>\n      <td>1489</td>\n      <td>1489</td>\n      <td>1489</td>\n      <td>1489</td>\n      <td>1489</td>\n      <td>1489</td>\n      <td>1489</td>\n    </tr>\n  </tbody>\n</table>\n<p>13 rows × 112 columns</p>\n</div>"
     },
     "metadata": {},
     "execution_count": 6
    }
   ],
   "source": [
    "data_cleaned.groupby('type_cleaned', as_index=False).count()"
   ]
  },
  {
   "cell_type": "code",
   "execution_count": 18,
   "metadata": {},
   "outputs": [
    {
     "output_type": "stream",
     "name": "stdout",
     "text": [
      "['floor_index', 'num_sides', 'area', 'proportion_floor_area', 'perimeter', 'compactness', 'num_adjacent_walls', 'proportion_exterior_walls', 'num_adjacent_railings', 'num_adjacent_rooms', 'num_connected_rooms', 'num_doors', 'num_windows', 'num_fixtures']\n14\n"
     ]
    }
   ],
   "source": [
    "spc = [x for x in data_cleaned.columns if ('contains_' not in x) and\n",
    "                                          ('_to_' not in x) and\n",
    "                                          (x not in['path','type','classes','open_to','door_to','contains','type_cleaned','exclude'])]\n",
    "print (spc)\n",
    "print (len(spc))"
   ]
  },
  {
   "cell_type": "code",
   "execution_count": null,
   "metadata": {},
   "outputs": [],
   "source": []
  }
 ]
}