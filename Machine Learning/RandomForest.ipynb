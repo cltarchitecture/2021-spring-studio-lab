{
 "metadata": {
  "language_info": {
   "codemirror_mode": {
    "name": "ipython",
    "version": 3
   },
   "file_extension": ".py",
   "mimetype": "text/x-python",
   "name": "python",
   "nbconvert_exporter": "python",
   "pygments_lexer": "ipython3",
   "version": "3.7.4-final"
  },
  "orig_nbformat": 2,
  "kernelspec": {
   "name": "python3",
   "display_name": "Python 3.7.4 64-bit (conda)",
   "metadata": {
    "interpreter": {
     "hash": "781a19f18767465042c50acfc7932e5402a66ec23b1f36194ea065e25db6c88b"
    }
   }
  }
 },
 "nbformat": 4,
 "nbformat_minor": 2,
 "cells": [
  {
   "cell_type": "code",
   "execution_count": 1,
   "metadata": {},
   "outputs": [],
   "source": [
    "import pandas as pd\n",
    "from sklearn.model_selection import train_test_split\n",
    "from sklearn.ensemble import RandomForestClassifier\n",
    "from sklearn.metrics import classification_report, confusion_matrix\n",
    "import seaborn as sn\n",
    "import matplotlib.pyplot as plt"
   ]
  },
  {
   "cell_type": "code",
   "execution_count": 2,
   "metadata": {},
   "outputs": [],
   "source": [
    "from os.path import dirname, join\n",
    "from pathlib import Path\n",
    "ROOT_DIR = dirname(os.path.abspath('ARCH7211-SPRING2021')) # This is your Project Root\n",
    "data_PATH = join(ROOT_DIR,\"data\",\"room_info.csv\")  # requires `import os`\n",
    "\n",
    "# input data\n",
    "data = pd.read_csv(r'C:\\Users\\milad\\Documents\\GitHub\\arch7211-spring2021\\data\\room_info.csv')"
   ]
  },
  {
   "cell_type": "code",
   "execution_count": 3,
   "metadata": {},
   "outputs": [],
   "source": [
    "# cMat = confusion_matrix(y_test,rfc_pred)\n",
    "# print(len(y_test.unique()))\n",
    "# df_cm = pd.DataFrame(data = cMat , index= pd.Series(y_test).unique() , columns= pd.Series(rfc_pred).unique())\n",
    "# # df_cm = pd.DataFrame(data = cMat)\n",
    "# df_cm.head()\n",
    "# plt.figure(figsize= (50,50))\n",
    "# sn.heatmap(df_cm, annot=True)"
   ]
  },
  {
   "cell_type": "code",
   "execution_count": 4,
   "metadata": {},
   "outputs": [],
   "source": [
    "exclusion = [\"Undefined\",\"UserDefined\",\"Other\"]\n",
    "merge = {\n",
    "    \"Sauna\": \"Bath\",\n",
    "    \"Den\":'LivingRoom',\n",
    "    \"Library\": \"Office\",\n",
    "    \"DressingRoom\":'Closet'\n",
    "}\n",
    "\n",
    "data[\"type_cleaned\"] = data[\"type\"].apply(lambda x: merge.get(x,x))\n",
    "data[\"exclude\"] = ~data[\"type\"].isin(exclusion)"
   ]
  },
  {
   "cell_type": "code",
   "execution_count": 5,
   "metadata": {},
   "outputs": [],
   "source": [
    "# data.groupby(\"type\",as_index=False).count().sort_values(\"path\")"
   ]
  },
  {
   "cell_type": "code",
   "execution_count": 6,
   "metadata": {},
   "outputs": [],
   "source": [
    "data_exclude = data[~data[\"type\"].isin(exclusion)]"
   ]
  },
  {
   "cell_type": "code",
   "execution_count": 7,
   "metadata": {},
   "outputs": [
    {
     "output_type": "execute_result",
     "data": {
      "text/plain": [
       "      type_cleaned  path  type  classes  floor_index  num_sides  area  \\\n",
       "0           Alcove   164   164      164          164        164   164   \n",
       "1            Attic    93    93       93           93         93    93   \n",
       "2         Basement    51    51       51           51         51    51   \n",
       "3             Bath  7288  7288     7288         7288       7288  7288   \n",
       "4          Bedroom  7993  7993     7993         7993       7993  7993   \n",
       "5          CarPort   279   279      279          279        279   279   \n",
       "6           Closet  3041  3041     3041         3041       3041  3041   \n",
       "7           Dining   954   954      954          954        954   954   \n",
       "8     DraughtLobby  1667  1667     1667         1667       1667  1667   \n",
       "9         Elevated   100   100      100          100        100   100   \n",
       "10           Entry  4211  4211     4211         4211       4211  4211   \n",
       "11          Garage   414   414      414          414        414   414   \n",
       "12            Hall   172   172      172          172        172   172   \n",
       "13         Kitchen  4548  4548     4548         4548       4548  4548   \n",
       "14      LivingRoom  4264  4264     4264         4264       4264  4264   \n",
       "15          Office   177   177      177          177        177   177   \n",
       "16         Outdoor  7852  7852     7852         7852       7852  7852   \n",
       "17  RecreationRoom    84    84       84           84         84    84   \n",
       "18            Room  1855  1855     1855         1855       1855  1855   \n",
       "19         Storage  1809  1809     1809         1809       1809  1809   \n",
       "20   TechnicalRoom   474   474      474          474        474   474   \n",
       "21         Utility  1015  1015     1015         1015       1015  1015   \n",
       "\n",
       "    proportion_floor_area  perimeter  compactness  ...  contains_Sink  \\\n",
       "0                     164        164          164  ...            164   \n",
       "1                      93         93           93  ...             93   \n",
       "2                      51         51           51  ...             51   \n",
       "3                    7288       7288         7288  ...           7288   \n",
       "4                    7993       7993         7993  ...           7993   \n",
       "5                     279        279          279  ...            279   \n",
       "6                    3041       3041         3041  ...           3041   \n",
       "7                     954        954          954  ...            954   \n",
       "8                    1667       1667         1667  ...           1667   \n",
       "9                     100        100          100  ...            100   \n",
       "10                   4211       4211         4211  ...           4211   \n",
       "11                    414        414          414  ...            414   \n",
       "12                    172        172          172  ...            172   \n",
       "13                   4548       4548         4548  ...           4548   \n",
       "14                   4264       4264         4264  ...           4264   \n",
       "15                    177        177          177  ...            177   \n",
       "16                   7852       7852         7852  ...           7852   \n",
       "17                     84         84           84  ...             84   \n",
       "18                   1855       1855         1855  ...           1855   \n",
       "19                   1809       1809         1809  ...           1809   \n",
       "20                    474        474          474  ...            474   \n",
       "21                   1015       1015         1015  ...           1015   \n",
       "\n",
       "    contains_SpaceForAppliance  contains_Stove  contains_Toilet  \\\n",
       "0                          164             164              164   \n",
       "1                           93              93               93   \n",
       "2                           51              51               51   \n",
       "3                         7288            7288             7288   \n",
       "4                         7993            7993             7993   \n",
       "5                          279             279              279   \n",
       "6                         3041            3041             3041   \n",
       "7                          954             954              954   \n",
       "8                         1667            1667             1667   \n",
       "9                          100             100              100   \n",
       "10                        4211            4211             4211   \n",
       "11                         414             414              414   \n",
       "12                         172             172              172   \n",
       "13                        4548            4548             4548   \n",
       "14                        4264            4264             4264   \n",
       "15                         177             177              177   \n",
       "16                        7852            7852             7852   \n",
       "17                          84              84               84   \n",
       "18                        1855            1855             1855   \n",
       "19                        1809            1809             1809   \n",
       "20                         474             474              474   \n",
       "21                        1015            1015             1015   \n",
       "\n",
       "    contains_TumbleDryer  contains_Urinal  contains_WallCabinet  \\\n",
       "0                    164              164                   164   \n",
       "1                     93               93                    93   \n",
       "2                     51               51                    51   \n",
       "3                   7288             7288                  7288   \n",
       "4                   7993             7993                  7993   \n",
       "5                    279              279                   279   \n",
       "6                   3041             3041                  3041   \n",
       "7                    954              954                   954   \n",
       "8                   1667             1667                  1667   \n",
       "9                    100              100                   100   \n",
       "10                  4211             4211                  4211   \n",
       "11                   414              414                   414   \n",
       "12                   172              172                   172   \n",
       "13                  4548             4548                  4548   \n",
       "14                  4264             4264                  4264   \n",
       "15                   177              177                   177   \n",
       "16                  7852             7852                  7852   \n",
       "17                    84               84                    84   \n",
       "18                  1855             1855                  1855   \n",
       "19                  1809             1809                  1809   \n",
       "20                   474              474                   474   \n",
       "21                  1015             1015                  1015   \n",
       "\n",
       "    contains_WashingMachine  contains_WaterTap  exclude  \n",
       "0                       164                164      164  \n",
       "1                        93                 93       93  \n",
       "2                        51                 51       51  \n",
       "3                      7288               7288     7288  \n",
       "4                      7993               7993     7993  \n",
       "5                       279                279      279  \n",
       "6                      3041               3041     3041  \n",
       "7                       954                954      954  \n",
       "8                      1667               1667     1667  \n",
       "9                       100                100      100  \n",
       "10                     4211               4211     4211  \n",
       "11                      414                414      414  \n",
       "12                      172                172      172  \n",
       "13                     4548               4548     4548  \n",
       "14                     4264               4264     4264  \n",
       "15                      177                177      177  \n",
       "16                     7852               7852     7852  \n",
       "17                       84                 84       84  \n",
       "18                     1855               1855     1855  \n",
       "19                     1809               1809     1809  \n",
       "20                      474                474      474  \n",
       "21                     1015               1015     1015  \n",
       "\n",
       "[22 rows x 112 columns]"
      ],
      "text/html": "<div>\n<style scoped>\n    .dataframe tbody tr th:only-of-type {\n        vertical-align: middle;\n    }\n\n    .dataframe tbody tr th {\n        vertical-align: top;\n    }\n\n    .dataframe thead th {\n        text-align: right;\n    }\n</style>\n<table border=\"1\" class=\"dataframe\">\n  <thead>\n    <tr style=\"text-align: right;\">\n      <th></th>\n      <th>type_cleaned</th>\n      <th>path</th>\n      <th>type</th>\n      <th>classes</th>\n      <th>floor_index</th>\n      <th>num_sides</th>\n      <th>area</th>\n      <th>proportion_floor_area</th>\n      <th>perimeter</th>\n      <th>compactness</th>\n      <th>...</th>\n      <th>contains_Sink</th>\n      <th>contains_SpaceForAppliance</th>\n      <th>contains_Stove</th>\n      <th>contains_Toilet</th>\n      <th>contains_TumbleDryer</th>\n      <th>contains_Urinal</th>\n      <th>contains_WallCabinet</th>\n      <th>contains_WashingMachine</th>\n      <th>contains_WaterTap</th>\n      <th>exclude</th>\n    </tr>\n  </thead>\n  <tbody>\n    <tr>\n      <td>0</td>\n      <td>Alcove</td>\n      <td>164</td>\n      <td>164</td>\n      <td>164</td>\n      <td>164</td>\n      <td>164</td>\n      <td>164</td>\n      <td>164</td>\n      <td>164</td>\n      <td>164</td>\n      <td>...</td>\n      <td>164</td>\n      <td>164</td>\n      <td>164</td>\n      <td>164</td>\n      <td>164</td>\n      <td>164</td>\n      <td>164</td>\n      <td>164</td>\n      <td>164</td>\n      <td>164</td>\n    </tr>\n    <tr>\n      <td>1</td>\n      <td>Attic</td>\n      <td>93</td>\n      <td>93</td>\n      <td>93</td>\n      <td>93</td>\n      <td>93</td>\n      <td>93</td>\n      <td>93</td>\n      <td>93</td>\n      <td>93</td>\n      <td>...</td>\n      <td>93</td>\n      <td>93</td>\n      <td>93</td>\n      <td>93</td>\n      <td>93</td>\n      <td>93</td>\n      <td>93</td>\n      <td>93</td>\n      <td>93</td>\n      <td>93</td>\n    </tr>\n    <tr>\n      <td>2</td>\n      <td>Basement</td>\n      <td>51</td>\n      <td>51</td>\n      <td>51</td>\n      <td>51</td>\n      <td>51</td>\n      <td>51</td>\n      <td>51</td>\n      <td>51</td>\n      <td>51</td>\n      <td>...</td>\n      <td>51</td>\n      <td>51</td>\n      <td>51</td>\n      <td>51</td>\n      <td>51</td>\n      <td>51</td>\n      <td>51</td>\n      <td>51</td>\n      <td>51</td>\n      <td>51</td>\n    </tr>\n    <tr>\n      <td>3</td>\n      <td>Bath</td>\n      <td>7288</td>\n      <td>7288</td>\n      <td>7288</td>\n      <td>7288</td>\n      <td>7288</td>\n      <td>7288</td>\n      <td>7288</td>\n      <td>7288</td>\n      <td>7288</td>\n      <td>...</td>\n      <td>7288</td>\n      <td>7288</td>\n      <td>7288</td>\n      <td>7288</td>\n      <td>7288</td>\n      <td>7288</td>\n      <td>7288</td>\n      <td>7288</td>\n      <td>7288</td>\n      <td>7288</td>\n    </tr>\n    <tr>\n      <td>4</td>\n      <td>Bedroom</td>\n      <td>7993</td>\n      <td>7993</td>\n      <td>7993</td>\n      <td>7993</td>\n      <td>7993</td>\n      <td>7993</td>\n      <td>7993</td>\n      <td>7993</td>\n      <td>7993</td>\n      <td>...</td>\n      <td>7993</td>\n      <td>7993</td>\n      <td>7993</td>\n      <td>7993</td>\n      <td>7993</td>\n      <td>7993</td>\n      <td>7993</td>\n      <td>7993</td>\n      <td>7993</td>\n      <td>7993</td>\n    </tr>\n    <tr>\n      <td>5</td>\n      <td>CarPort</td>\n      <td>279</td>\n      <td>279</td>\n      <td>279</td>\n      <td>279</td>\n      <td>279</td>\n      <td>279</td>\n      <td>279</td>\n      <td>279</td>\n      <td>279</td>\n      <td>...</td>\n      <td>279</td>\n      <td>279</td>\n      <td>279</td>\n      <td>279</td>\n      <td>279</td>\n      <td>279</td>\n      <td>279</td>\n      <td>279</td>\n      <td>279</td>\n      <td>279</td>\n    </tr>\n    <tr>\n      <td>6</td>\n      <td>Closet</td>\n      <td>3041</td>\n      <td>3041</td>\n      <td>3041</td>\n      <td>3041</td>\n      <td>3041</td>\n      <td>3041</td>\n      <td>3041</td>\n      <td>3041</td>\n      <td>3041</td>\n      <td>...</td>\n      <td>3041</td>\n      <td>3041</td>\n      <td>3041</td>\n      <td>3041</td>\n      <td>3041</td>\n      <td>3041</td>\n      <td>3041</td>\n      <td>3041</td>\n      <td>3041</td>\n      <td>3041</td>\n    </tr>\n    <tr>\n      <td>7</td>\n      <td>Dining</td>\n      <td>954</td>\n      <td>954</td>\n      <td>954</td>\n      <td>954</td>\n      <td>954</td>\n      <td>954</td>\n      <td>954</td>\n      <td>954</td>\n      <td>954</td>\n      <td>...</td>\n      <td>954</td>\n      <td>954</td>\n      <td>954</td>\n      <td>954</td>\n      <td>954</td>\n      <td>954</td>\n      <td>954</td>\n      <td>954</td>\n      <td>954</td>\n      <td>954</td>\n    </tr>\n    <tr>\n      <td>8</td>\n      <td>DraughtLobby</td>\n      <td>1667</td>\n      <td>1667</td>\n      <td>1667</td>\n      <td>1667</td>\n      <td>1667</td>\n      <td>1667</td>\n      <td>1667</td>\n      <td>1667</td>\n      <td>1667</td>\n      <td>...</td>\n      <td>1667</td>\n      <td>1667</td>\n      <td>1667</td>\n      <td>1667</td>\n      <td>1667</td>\n      <td>1667</td>\n      <td>1667</td>\n      <td>1667</td>\n      <td>1667</td>\n      <td>1667</td>\n    </tr>\n    <tr>\n      <td>9</td>\n      <td>Elevated</td>\n      <td>100</td>\n      <td>100</td>\n      <td>100</td>\n      <td>100</td>\n      <td>100</td>\n      <td>100</td>\n      <td>100</td>\n      <td>100</td>\n      <td>100</td>\n      <td>...</td>\n      <td>100</td>\n      <td>100</td>\n      <td>100</td>\n      <td>100</td>\n      <td>100</td>\n      <td>100</td>\n      <td>100</td>\n      <td>100</td>\n      <td>100</td>\n      <td>100</td>\n    </tr>\n    <tr>\n      <td>10</td>\n      <td>Entry</td>\n      <td>4211</td>\n      <td>4211</td>\n      <td>4211</td>\n      <td>4211</td>\n      <td>4211</td>\n      <td>4211</td>\n      <td>4211</td>\n      <td>4211</td>\n      <td>4211</td>\n      <td>...</td>\n      <td>4211</td>\n      <td>4211</td>\n      <td>4211</td>\n      <td>4211</td>\n      <td>4211</td>\n      <td>4211</td>\n      <td>4211</td>\n      <td>4211</td>\n      <td>4211</td>\n      <td>4211</td>\n    </tr>\n    <tr>\n      <td>11</td>\n      <td>Garage</td>\n      <td>414</td>\n      <td>414</td>\n      <td>414</td>\n      <td>414</td>\n      <td>414</td>\n      <td>414</td>\n      <td>414</td>\n      <td>414</td>\n      <td>414</td>\n      <td>...</td>\n      <td>414</td>\n      <td>414</td>\n      <td>414</td>\n      <td>414</td>\n      <td>414</td>\n      <td>414</td>\n      <td>414</td>\n      <td>414</td>\n      <td>414</td>\n      <td>414</td>\n    </tr>\n    <tr>\n      <td>12</td>\n      <td>Hall</td>\n      <td>172</td>\n      <td>172</td>\n      <td>172</td>\n      <td>172</td>\n      <td>172</td>\n      <td>172</td>\n      <td>172</td>\n      <td>172</td>\n      <td>172</td>\n      <td>...</td>\n      <td>172</td>\n      <td>172</td>\n      <td>172</td>\n      <td>172</td>\n      <td>172</td>\n      <td>172</td>\n      <td>172</td>\n      <td>172</td>\n      <td>172</td>\n      <td>172</td>\n    </tr>\n    <tr>\n      <td>13</td>\n      <td>Kitchen</td>\n      <td>4548</td>\n      <td>4548</td>\n      <td>4548</td>\n      <td>4548</td>\n      <td>4548</td>\n      <td>4548</td>\n      <td>4548</td>\n      <td>4548</td>\n      <td>4548</td>\n      <td>...</td>\n      <td>4548</td>\n      <td>4548</td>\n      <td>4548</td>\n      <td>4548</td>\n      <td>4548</td>\n      <td>4548</td>\n      <td>4548</td>\n      <td>4548</td>\n      <td>4548</td>\n      <td>4548</td>\n    </tr>\n    <tr>\n      <td>14</td>\n      <td>LivingRoom</td>\n      <td>4264</td>\n      <td>4264</td>\n      <td>4264</td>\n      <td>4264</td>\n      <td>4264</td>\n      <td>4264</td>\n      <td>4264</td>\n      <td>4264</td>\n      <td>4264</td>\n      <td>...</td>\n      <td>4264</td>\n      <td>4264</td>\n      <td>4264</td>\n      <td>4264</td>\n      <td>4264</td>\n      <td>4264</td>\n      <td>4264</td>\n      <td>4264</td>\n      <td>4264</td>\n      <td>4264</td>\n    </tr>\n    <tr>\n      <td>15</td>\n      <td>Office</td>\n      <td>177</td>\n      <td>177</td>\n      <td>177</td>\n      <td>177</td>\n      <td>177</td>\n      <td>177</td>\n      <td>177</td>\n      <td>177</td>\n      <td>177</td>\n      <td>...</td>\n      <td>177</td>\n      <td>177</td>\n      <td>177</td>\n      <td>177</td>\n      <td>177</td>\n      <td>177</td>\n      <td>177</td>\n      <td>177</td>\n      <td>177</td>\n      <td>177</td>\n    </tr>\n    <tr>\n      <td>16</td>\n      <td>Outdoor</td>\n      <td>7852</td>\n      <td>7852</td>\n      <td>7852</td>\n      <td>7852</td>\n      <td>7852</td>\n      <td>7852</td>\n      <td>7852</td>\n      <td>7852</td>\n      <td>7852</td>\n      <td>...</td>\n      <td>7852</td>\n      <td>7852</td>\n      <td>7852</td>\n      <td>7852</td>\n      <td>7852</td>\n      <td>7852</td>\n      <td>7852</td>\n      <td>7852</td>\n      <td>7852</td>\n      <td>7852</td>\n    </tr>\n    <tr>\n      <td>17</td>\n      <td>RecreationRoom</td>\n      <td>84</td>\n      <td>84</td>\n      <td>84</td>\n      <td>84</td>\n      <td>84</td>\n      <td>84</td>\n      <td>84</td>\n      <td>84</td>\n      <td>84</td>\n      <td>...</td>\n      <td>84</td>\n      <td>84</td>\n      <td>84</td>\n      <td>84</td>\n      <td>84</td>\n      <td>84</td>\n      <td>84</td>\n      <td>84</td>\n      <td>84</td>\n      <td>84</td>\n    </tr>\n    <tr>\n      <td>18</td>\n      <td>Room</td>\n      <td>1855</td>\n      <td>1855</td>\n      <td>1855</td>\n      <td>1855</td>\n      <td>1855</td>\n      <td>1855</td>\n      <td>1855</td>\n      <td>1855</td>\n      <td>1855</td>\n      <td>...</td>\n      <td>1855</td>\n      <td>1855</td>\n      <td>1855</td>\n      <td>1855</td>\n      <td>1855</td>\n      <td>1855</td>\n      <td>1855</td>\n      <td>1855</td>\n      <td>1855</td>\n      <td>1855</td>\n    </tr>\n    <tr>\n      <td>19</td>\n      <td>Storage</td>\n      <td>1809</td>\n      <td>1809</td>\n      <td>1809</td>\n      <td>1809</td>\n      <td>1809</td>\n      <td>1809</td>\n      <td>1809</td>\n      <td>1809</td>\n      <td>1809</td>\n      <td>...</td>\n      <td>1809</td>\n      <td>1809</td>\n      <td>1809</td>\n      <td>1809</td>\n      <td>1809</td>\n      <td>1809</td>\n      <td>1809</td>\n      <td>1809</td>\n      <td>1809</td>\n      <td>1809</td>\n    </tr>\n    <tr>\n      <td>20</td>\n      <td>TechnicalRoom</td>\n      <td>474</td>\n      <td>474</td>\n      <td>474</td>\n      <td>474</td>\n      <td>474</td>\n      <td>474</td>\n      <td>474</td>\n      <td>474</td>\n      <td>474</td>\n      <td>...</td>\n      <td>474</td>\n      <td>474</td>\n      <td>474</td>\n      <td>474</td>\n      <td>474</td>\n      <td>474</td>\n      <td>474</td>\n      <td>474</td>\n      <td>474</td>\n      <td>474</td>\n    </tr>\n    <tr>\n      <td>21</td>\n      <td>Utility</td>\n      <td>1015</td>\n      <td>1015</td>\n      <td>1015</td>\n      <td>1015</td>\n      <td>1015</td>\n      <td>1015</td>\n      <td>1015</td>\n      <td>1015</td>\n      <td>1015</td>\n      <td>...</td>\n      <td>1015</td>\n      <td>1015</td>\n      <td>1015</td>\n      <td>1015</td>\n      <td>1015</td>\n      <td>1015</td>\n      <td>1015</td>\n      <td>1015</td>\n      <td>1015</td>\n      <td>1015</td>\n    </tr>\n  </tbody>\n</table>\n<p>22 rows × 112 columns</p>\n</div>"
     },
     "metadata": {},
     "execution_count": 7
    }
   ],
   "source": [
    "data_exclude.groupby(\"type_cleaned\",as_index=False).count().sort_values(\"type_cleaned\")"
   ]
  },
  {
   "cell_type": "code",
   "execution_count": 8,
   "metadata": {},
   "outputs": [],
   "source": [
    "#Clean input data from the target data\n",
    "# define features and predictions\n",
    "X = data_exclude.drop(['path','type','classes','open_to','door_to','contains','type_cleaned','exclude'], axis =1)\n",
    "y = data_exclude['type']\n",
    "#Split the data into training data, and test data \n",
    "X_train , X_test, y_train, y_test = train_test_split(X,y, test_size= 0.3)"
   ]
  },
  {
   "cell_type": "code",
   "execution_count": 9,
   "metadata": {},
   "outputs": [],
   "source": [
    "#import random forest and metrics\n",
    "from sklearn.ensemble import RandomForestClassifier\n",
    "from sklearn.metrics import classification_report, confusion_matrix\n",
    "# Instanciate randomforest classifier \n",
    "rfc = RandomForestClassifier(n_estimators= 400)"
   ]
  },
  {
   "cell_type": "code",
   "execution_count": 10,
   "metadata": {},
   "outputs": [
    {
     "output_type": "execute_result",
     "data": {
      "text/plain": [
       "RandomForestClassifier(bootstrap=True, class_weight=None, criterion='gini',\n",
       "                       max_depth=None, max_features='auto', max_leaf_nodes=None,\n",
       "                       min_impurity_decrease=0.0, min_impurity_split=None,\n",
       "                       min_samples_leaf=1, min_samples_split=2,\n",
       "                       min_weight_fraction_leaf=0.0, n_estimators=400,\n",
       "                       n_jobs=None, oob_score=False, random_state=None,\n",
       "                       verbose=0, warm_start=False)"
      ]
     },
     "metadata": {},
     "execution_count": 10
    }
   ],
   "source": [
    "# train model \n",
    "rfc.fit(X_train,y_train)"
   ]
  },
  {
   "cell_type": "code",
   "execution_count": 28,
   "metadata": {},
   "outputs": [],
   "source": [
    "# predict\n",
    "rfc_pred = rfc.predict(X_test)"
   ]
  },
  {
   "cell_type": "code",
   "execution_count": 29,
   "metadata": {},
   "outputs": [
    {
     "output_type": "stream",
     "name": "stdout",
     "text": [
      "[[  40    0    0    0    6    0    3    0    3    0    0    0    3    0\n",
      "     0    0    0    0    0    1    0    0    0    2    0    0]\n",
      " [   0    6    0    0    9    0    4    0    0    0    0    0    1    1\n",
      "     0    0    0    1    0    3    0    0    0    5    0    0]\n",
      " [   0    0    1    1    0    0    1    0    0    0    1    0    1    1\n",
      "     0    0    0    0    0    2    0    1    0    7    0    0]\n",
      " [   0    0    1 2072    4    0   19    0    1    0    7    0    7    0\n",
      "     0    0    0    0    0    2    0    0    0   10    4    9]\n",
      " [   3    0    0    1 2302    0    1    3    7    0    2    0   13   10\n",
      "     0    1    0   24    0    8    0   12    0   10    0    0]\n",
      " [   0    0    0    0    0   35    0    0    0    0    0    0    0   10\n",
      "     0    0    0    0    0   28    0    0    0    1    0    0]\n",
      " [   0    1    0    8   11    0  731    0    0    6    0    0    6    0\n",
      "     0    0    0    0    0    6    0    0    0   19    3    0]\n",
      " [   0    0    0    0   14    0    0   38    4    0    0    0    5    0\n",
      "     0    1    0   20    0    1    0    1    0    2    0    0]\n",
      " [   2    0    0    0   17    0    0    2  264    0    0    0    9    0\n",
      "     0    0    0   13    0    4    0    0    0    0    0    0]\n",
      " [   0    0    0    3    3    0    1    0    0  466    1    0   12    0\n",
      "     0    0    0    0    0    7    0    0    0    5    0    0]\n",
      " [   0    0    0   12    7    0    0    5    0    5   43    0   20    0\n",
      "     0    1    0    0    0    0    0    0    0    5    1   11]\n",
      " [   0    0    0    2    6    0    1    0    1    0    0    4    4    0\n",
      "     0    2    0    6    0    6    0    0    0    0    0    0]\n",
      " [   0    0    0    1    9    0    3    0    8   22    6    0 1224    0\n",
      "     0    0    0   10    0    5    0    2    0    4    0    2]\n",
      " [   0    0    0    0    5    1    0    0    0    0    0    0    0  117\n",
      "     0    1    0    7    0    5    0    0    0    7    0    0]\n",
      " [   0    0    0    0    1    0    0    0    1    0    0    0   32    0\n",
      "     9    0    0    3    0    2    0    0    0    0    0    0]\n",
      " [   0    0    0    7   15    0    4    0    9    0    1    0    2    0\n",
      "     0 1256    0   14    0    2    0    1    0    1    0   10]\n",
      " [   1    0    0    0    9    0    1    0    2    0    0    0    0    0\n",
      "     0    0    0    1    0    0    0    0    0    2    0    0]\n",
      " [   0    0    0    0   26    0    0    0    0    0    0    0    7    1\n",
      "     0    2    0 1144    0    3    0    5    0    1    0    0]\n",
      " [   0    0    0    0   22    0    0    0    0    0    0    0    2    0\n",
      "     0    1    0    2    2    3    0    1    0    2    0    1]\n",
      " [   0    0    0    0   17    8    2    0    0    5    0    0    1    4\n",
      "     0    0    0    0    0 2269    0    0    0   11    0    0]\n",
      " [   0    0    0    0   11    0    0    0    0    0    1    0    3    4\n",
      "     0    1    0    3    0    1    1    0    0    2    0    1]\n",
      " [   0    0    0    3  338    2    7    2    4    1    1    0   18    0\n",
      "     0   26    0  129    0    3    1   53    0    8    0    1]\n",
      " [   0    0    0    1    2    0    1    0    0    0    1    0    0    1\n",
      "     0    0    0    0    0    0    0    0   24    1    0    1]\n",
      " [   0    1    0    9   23    0   26    0    0    7    0    0    5   19\n",
      "     0    0    0    1    1   17    0    0    0  414   10    2]\n",
      " [   0    0    0    4    7    0    6    0    0    2    0    0    2    0\n",
      "     0    0    0    1    0    3    0    0    1   36   74    1]\n",
      " [   0    0    0   31    3    0    1    0    3    0    3    0    6    0\n",
      "     0    5    0    0    0    2    0    1    1    3    2  256]]\n",
      "\n",
      "\n",
      "                precision    recall  f1-score   support\n",
      "\n",
      "        Alcove       0.87      0.69      0.77        58\n",
      "         Attic       0.75      0.20      0.32        30\n",
      "      Basement       0.50      0.06      0.11        16\n",
      "          Bath       0.96      0.97      0.97      2136\n",
      "       Bedroom       0.80      0.96      0.87      2397\n",
      "       CarPort       0.76      0.47      0.58        74\n",
      "        Closet       0.90      0.92      0.91       791\n",
      "           Den       0.76      0.44      0.56        86\n",
      "        Dining       0.86      0.85      0.85       311\n",
      "  DraughtLobby       0.91      0.94      0.92       498\n",
      "  DressingRoom       0.64      0.39      0.49       110\n",
      "      Elevated       1.00      0.12      0.22        32\n",
      "         Entry       0.89      0.94      0.91      1296\n",
      "        Garage       0.70      0.82      0.75       143\n",
      "          Hall       1.00      0.19      0.32        48\n",
      "       Kitchen       0.97      0.95      0.96      1322\n",
      "       Library       0.00      0.00      0.00        16\n",
      "    LivingRoom       0.83      0.96      0.89      1189\n",
      "        Office       0.67      0.06      0.10        36\n",
      "       Outdoor       0.95      0.98      0.97      2317\n",
      "RecreationRoom       0.50      0.04      0.07        28\n",
      "          Room       0.69      0.09      0.16       597\n",
      "         Sauna       0.92      0.75      0.83        32\n",
      "       Storage       0.74      0.77      0.76       535\n",
      " TechnicalRoom       0.79      0.54      0.64       137\n",
      "       Utility       0.87      0.81      0.84       317\n",
      "\n",
      "      accuracy                           0.88     14552\n",
      "     macro avg       0.78      0.57      0.61     14552\n",
      "  weighted avg       0.88      0.88      0.86     14552\n",
      "\n"
     ]
    }
   ],
   "source": [
    "# Evaluate model\n",
    "print( confusion_matrix(y_test,rfc_pred))\n",
    "print('\\n')\n",
    "print( classification_report(y_test,rfc_pred))"
   ]
  },
  {
   "cell_type": "code",
   "execution_count": 24,
   "metadata": {},
   "outputs": [],
   "source": [
    "# sn.set()\n",
    "# sn.barplot(y=\"type\",x=\"area\",data=data_exclude)"
   ]
  },
  {
   "cell_type": "code",
   "execution_count": 25,
   "metadata": {},
   "outputs": [],
   "source": [
    "# sn.countplot(data_exclude[\"type_cleaned\"])\n",
    "# plt.xticks(rotation = 90)"
   ]
  },
  {
   "cell_type": "code",
   "execution_count": 31,
   "metadata": {
    "tags": [
     "outputPrepend"
    ]
   },
   "outputs": [
    {
     "output_type": "stream",
     "name": "stderr",
     "text": [
      " the min_impurity_decrease parameter instead.\n",
      "  DeprecationWarning)\n",
      "C:\\Users\\milad\\Anaconda3\\lib\\site-packages\\sklearn\\tree\\tree.py:297: DeprecationWarning: The min_impurity_split parameter is deprecated. Its default value will change from 1e-7 to 0 in version 0.23, and it will be removed in 0.25. Use the min_impurity_decrease parameter instead.\n",
      "  DeprecationWarning)\n",
      "C:\\Users\\milad\\Anaconda3\\lib\\site-packages\\sklearn\\tree\\tree.py:297: DeprecationWarning: The min_impurity_split parameter is deprecated. Its default value will change from 1e-7 to 0 in version 0.23, and it will be removed in 0.25. Use the min_impurity_decrease parameter instead.\n",
      "  DeprecationWarning)\n",
      "C:\\Users\\milad\\Anaconda3\\lib\\site-packages\\sklearn\\tree\\tree.py:297: DeprecationWarning: The min_impurity_split parameter is deprecated. Its default value will change from 1e-7 to 0 in version 0.23, and it will be removed in 0.25. Use the min_impurity_decrease parameter instead.\n",
      "  DeprecationWarning)\n",
      "C:\\Users\\milad\\Anaconda3\\lib\\site-packages\\sklearn\\tree\\tree.py:297: DeprecationWarning: The min_impurity_split parameter is deprecated. Its default value will change from 1e-7 to 0 in version 0.23, and it will be removed in 0.25. Use the min_impurity_decrease parameter instead.\n",
      "  DeprecationWarning)\n",
      "C:\\Users\\milad\\Anaconda3\\lib\\site-packages\\sklearn\\tree\\tree.py:297: DeprecationWarning: The min_impurity_split parameter is deprecated. Its default value will change from 1e-7 to 0 in version 0.23, and it will be removed in 0.25. Use the min_impurity_decrease parameter instead.\n",
      "  DeprecationWarning)\n",
      "C:\\Users\\milad\\Anaconda3\\lib\\site-packages\\sklearn\\tree\\tree.py:297: DeprecationWarning: The min_impurity_split parameter is deprecated. Its default value will change from 1e-7 to 0 in version 0.23, and it will be removed in 0.25. Use the min_impurity_decrease parameter instead.\n",
      "  DeprecationWarning)\n",
      "C:\\Users\\milad\\Anaconda3\\lib\\site-packages\\sklearn\\tree\\tree.py:297: DeprecationWarning: The min_impurity_split parameter is deprecated. Its default value will change from 1e-7 to 0 in version 0.23, and it will be removed in 0.25. Use the min_impurity_decrease parameter instead.\n",
      "  DeprecationWarning)\n",
      "C:\\Users\\milad\\Anaconda3\\lib\\site-packages\\sklearn\\tree\\tree.py:297: DeprecationWarning: The min_impurity_split parameter is deprecated. Its default value will change from 1e-7 to 0 in version 0.23, and it will be removed in 0.25. Use the min_impurity_decrease parameter instead.\n",
      "  DeprecationWarning)\n",
      "C:\\Users\\milad\\Anaconda3\\lib\\site-packages\\sklearn\\tree\\tree.py:297: DeprecationWarning: The min_impurity_split parameter is deprecated. Its default value will change from 1e-7 to 0 in version 0.23, and it will be removed in 0.25. Use the min_impurity_decrease parameter instead.\n",
      "  DeprecationWarning)\n",
      "C:\\Users\\milad\\Anaconda3\\lib\\site-packages\\sklearn\\tree\\tree.py:297: DeprecationWarning: The min_impurity_split parameter is deprecated. Its default value will change from 1e-7 to 0 in version 0.23, and it will be removed in 0.25. Use the min_impurity_decrease parameter instead.\n",
      "  DeprecationWarning)\n",
      "C:\\Users\\milad\\Anaconda3\\lib\\site-packages\\sklearn\\tree\\tree.py:297: DeprecationWarning: The min_impurity_split parameter is deprecated. Its default value will change from 1e-7 to 0 in version 0.23, and it will be removed in 0.25. Use the min_impurity_decrease parameter instead.\n",
      "  DeprecationWarning)\n",
      "C:\\Users\\milad\\Anaconda3\\lib\\site-packages\\sklearn\\tree\\tree.py:297: DeprecationWarning: The min_impurity_split parameter is deprecated. Its default value will change from 1e-7 to 0 in version 0.23, and it will be removed in 0.25. Use the min_impurity_decrease parameter instead.\n",
      "  DeprecationWarning)\n",
      "C:\\Users\\milad\\Anaconda3\\lib\\site-packages\\sklearn\\tree\\tree.py:297: DeprecationWarning: The min_impurity_split parameter is deprecated. Its default value will change from 1e-7 to 0 in version 0.23, and it will be removed in 0.25. Use the min_impurity_decrease parameter instead.\n",
      "  DeprecationWarning)\n",
      "C:\\Users\\milad\\Anaconda3\\lib\\site-packages\\sklearn\\tree\\tree.py:297: DeprecationWarning: The min_impurity_split parameter is deprecated. Its default value will change from 1e-7 to 0 in version 0.23, and it will be removed in 0.25. Use the min_impurity_decrease parameter instead.\n",
      "  DeprecationWarning)\n",
      "C:\\Users\\milad\\Anaconda3\\lib\\site-packages\\sklearn\\tree\\tree.py:297: DeprecationWarning: The min_impurity_split parameter is deprecated. Its default value will change from 1e-7 to 0 in version 0.23, and it will be removed in 0.25. Use the min_impurity_decrease parameter instead.\n",
      "  DeprecationWarning)\n",
      "C:\\Users\\milad\\Anaconda3\\lib\\site-packages\\sklearn\\tree\\tree.py:297: DeprecationWarning: The min_impurity_split parameter is deprecated. Its default value will change from 1e-7 to 0 in version 0.23, and it will be removed in 0.25. Use the min_impurity_decrease parameter instead.\n",
      "  DeprecationWarning)\n",
      "C:\\Users\\milad\\Anaconda3\\lib\\site-packages\\sklearn\\tree\\tree.py:297: DeprecationWarning: The min_impurity_split parameter is deprecated. Its default value will change from 1e-7 to 0 in version 0.23, and it will be removed in 0.25. Use the min_impurity_decrease parameter instead.\n",
      "  DeprecationWarning)\n",
      "C:\\Users\\milad\\Anaconda3\\lib\\site-packages\\sklearn\\tree\\tree.py:297: DeprecationWarning: The min_impurity_split parameter is deprecated. Its default value will change from 1e-7 to 0 in version 0.23, and it will be removed in 0.25. Use the min_impurity_decrease parameter instead.\n",
      "  DeprecationWarning)\n",
      "C:\\Users\\milad\\Anaconda3\\lib\\site-packages\\sklearn\\tree\\tree.py:297: DeprecationWarning: The min_impurity_split parameter is deprecated. Its default value will change from 1e-7 to 0 in version 0.23, and it will be removed in 0.25. Use the min_impurity_decrease parameter instead.\n",
      "  DeprecationWarning)\n",
      "C:\\Users\\milad\\Anaconda3\\lib\\site-packages\\sklearn\\tree\\tree.py:297: DeprecationWarning: The min_impurity_split parameter is deprecated. Its default value will change from 1e-7 to 0 in version 0.23, and it will be removed in 0.25. Use the min_impurity_decrease parameter instead.\n",
      "  DeprecationWarning)\n",
      "C:\\Users\\milad\\Anaconda3\\lib\\site-packages\\sklearn\\tree\\tree.py:297: DeprecationWarning: The min_impurity_split parameter is deprecated. Its default value will change from 1e-7 to 0 in version 0.23, and it will be removed in 0.25. Use the min_impurity_decrease parameter instead.\n",
      "  DeprecationWarning)\n",
      "C:\\Users\\milad\\Anaconda3\\lib\\site-packages\\sklearn\\tree\\tree.py:297: DeprecationWarning: The min_impurity_split parameter is deprecated. Its default value will change from 1e-7 to 0 in version 0.23, and it will be removed in 0.25. Use the min_impurity_decrease parameter instead.\n",
      "  DeprecationWarning)\n",
      "C:\\Users\\milad\\Anaconda3\\lib\\site-packages\\sklearn\\tree\\tree.py:297: DeprecationWarning: The min_impurity_split parameter is deprecated. Its default value will change from 1e-7 to 0 in version 0.23, and it will be removed in 0.25. Use the min_impurity_decrease parameter instead.\n",
      "  DeprecationWarning)\n",
      "C:\\Users\\milad\\Anaconda3\\lib\\site-packages\\sklearn\\tree\\tree.py:297: DeprecationWarning: The min_impurity_split parameter is deprecated. Its default value will change from 1e-7 to 0 in version 0.23, and it will be removed in 0.25. Use the min_impurity_decrease parameter instead.\n",
      "  DeprecationWarning)\n",
      "C:\\Users\\milad\\Anaconda3\\lib\\site-packages\\sklearn\\tree\\tree.py:297: DeprecationWarning: The min_impurity_split parameter is deprecated. Its default value will change from 1e-7 to 0 in version 0.23, and it will be removed in 0.25. Use the min_impurity_decrease parameter instead.\n",
      "  DeprecationWarning)\n",
      "C:\\Users\\milad\\Anaconda3\\lib\\site-packages\\sklearn\\tree\\tree.py:297: DeprecationWarning: The min_impurity_split parameter is deprecated. Its default value will change from 1e-7 to 0 in version 0.23, and it will be removed in 0.25. Use the min_impurity_decrease parameter instead.\n",
      "  DeprecationWarning)\n",
      "C:\\Users\\milad\\Anaconda3\\lib\\site-packages\\sklearn\\tree\\tree.py:297: DeprecationWarning: The min_impurity_split parameter is deprecated. Its default value will change from 1e-7 to 0 in version 0.23, and it will be removed in 0.25. Use the min_impurity_decrease parameter instead.\n",
      "  DeprecationWarning)\n",
      "C:\\Users\\milad\\Anaconda3\\lib\\site-packages\\sklearn\\tree\\tree.py:297: DeprecationWarning: The min_impurity_split parameter is deprecated. Its default value will change from 1e-7 to 0 in version 0.23, and it will be removed in 0.25. Use the min_impurity_decrease parameter instead.\n",
      "  DeprecationWarning)\n",
      "C:\\Users\\milad\\Anaconda3\\lib\\site-packages\\sklearn\\tree\\tree.py:297: DeprecationWarning: The min_impurity_split parameter is deprecated. Its default value will change from 1e-7 to 0 in version 0.23, and it will be removed in 0.25. Use the min_impurity_decrease parameter instead.\n",
      "  DeprecationWarning)\n",
      "C:\\Users\\milad\\Anaconda3\\lib\\site-packages\\sklearn\\tree\\tree.py:297: DeprecationWarning: The min_impurity_split parameter is deprecated. Its default value will change from 1e-7 to 0 in version 0.23, and it will be removed in 0.25. Use the min_impurity_decrease parameter instead.\n",
      "  DeprecationWarning)\n",
      "C:\\Users\\milad\\Anaconda3\\lib\\site-packages\\sklearn\\tree\\tree.py:297: DeprecationWarning: The min_impurity_split parameter is deprecated. Its default value will change from 1e-7 to 0 in version 0.23, and it will be removed in 0.25. Use the min_impurity_decrease parameter instead.\n",
      "  DeprecationWarning)\n",
      "C:\\Users\\milad\\Anaconda3\\lib\\site-packages\\sklearn\\tree\\tree.py:297: DeprecationWarning: The min_impurity_split parameter is deprecated. Its default value will change from 1e-7 to 0 in version 0.23, and it will be removed in 0.25. Use the min_impurity_decrease parameter instead.\n",
      "  DeprecationWarning)\n",
      "C:\\Users\\milad\\Anaconda3\\lib\\site-packages\\sklearn\\tree\\tree.py:297: DeprecationWarning: The min_impurity_split parameter is deprecated. Its default value will change from 1e-7 to 0 in version 0.23, and it will be removed in 0.25. Use the min_impurity_decrease parameter instead.\n",
      "  DeprecationWarning)\n",
      "C:\\Users\\milad\\Anaconda3\\lib\\site-packages\\sklearn\\tree\\tree.py:297: DeprecationWarning: The min_impurity_split parameter is deprecated. Its default value will change from 1e-7 to 0 in version 0.23, and it will be removed in 0.25. Use the min_impurity_decrease parameter instead.\n",
      "  DeprecationWarning)\n",
      "C:\\Users\\milad\\Anaconda3\\lib\\site-packages\\sklearn\\tree\\tree.py:297: DeprecationWarning: The min_impurity_split parameter is deprecated. Its default value will change from 1e-7 to 0 in version 0.23, and it will be removed in 0.25. Use the min_impurity_decrease parameter instead.\n",
      "  DeprecationWarning)\n",
      "C:\\Users\\milad\\Anaconda3\\lib\\site-packages\\sklearn\\tree\\tree.py:297: DeprecationWarning: The min_impurity_split parameter is deprecated. Its default value will change from 1e-7 to 0 in version 0.23, and it will be removed in 0.25. Use the min_impurity_decrease parameter instead.\n",
      "  DeprecationWarning)\n",
      "C:\\Users\\milad\\Anaconda3\\lib\\site-packages\\sklearn\\tree\\tree.py:297: DeprecationWarning: The min_impurity_split parameter is deprecated. Its default value will change from 1e-7 to 0 in version 0.23, and it will be removed in 0.25. Use the min_impurity_decrease parameter instead.\n",
      "  DeprecationWarning)\n",
      "C:\\Users\\milad\\Anaconda3\\lib\\site-packages\\sklearn\\tree\\tree.py:297: DeprecationWarning: The min_impurity_split parameter is deprecated. Its default value will change from 1e-7 to 0 in version 0.23, and it will be removed in 0.25. Use the min_impurity_decrease parameter instead.\n",
      "  DeprecationWarning)\n",
      "C:\\Users\\milad\\Anaconda3\\lib\\site-packages\\sklearn\\tree\\tree.py:297: DeprecationWarning: The min_impurity_split parameter is deprecated. Its default value will change from 1e-7 to 0 in version 0.23, and it will be removed in 0.25. Use the min_impurity_decrease parameter instead.\n",
      "  DeprecationWarning)\n",
      "C:\\Users\\milad\\Anaconda3\\lib\\site-packages\\sklearn\\tree\\tree.py:297: DeprecationWarning: The min_impurity_split parameter is deprecated. Its default value will change from 1e-7 to 0 in version 0.23, and it will be removed in 0.25. Use the min_impurity_decrease parameter instead.\n",
      "  DeprecationWarning)\n",
      "C:\\Users\\milad\\Anaconda3\\lib\\site-packages\\sklearn\\tree\\tree.py:297: DeprecationWarning: The min_impurity_split parameter is deprecated. Its default value will change from 1e-7 to 0 in version 0.23, and it will be removed in 0.25. Use the min_impurity_decrease parameter instead.\n",
      "  DeprecationWarning)\n",
      "C:\\Users\\milad\\Anaconda3\\lib\\site-packages\\sklearn\\tree\\tree.py:297: DeprecationWarning: The min_impurity_split parameter is deprecated. Its default value will change from 1e-7 to 0 in version 0.23, and it will be removed in 0.25. Use the min_impurity_decrease parameter instead.\n",
      "  DeprecationWarning)\n",
      "C:\\Users\\milad\\Anaconda3\\lib\\site-packages\\sklearn\\tree\\tree.py:297: DeprecationWarning: The min_impurity_split parameter is deprecated. Its default value will change from 1e-7 to 0 in version 0.23, and it will be removed in 0.25. Use the min_impurity_decrease parameter instead.\n",
      "  DeprecationWarning)\n",
      "C:\\Users\\milad\\Anaconda3\\lib\\site-packages\\sklearn\\tree\\tree.py:297: DeprecationWarning: The min_impurity_split parameter is deprecated. Its default value will change from 1e-7 to 0 in version 0.23, and it will be removed in 0.25. Use the min_impurity_decrease parameter instead.\n",
      "  DeprecationWarning)\n",
      "C:\\Users\\milad\\Anaconda3\\lib\\site-packages\\sklearn\\tree\\tree.py:297: DeprecationWarning: The min_impurity_split parameter is deprecated. Its default value will change from 1e-7 to 0 in version 0.23, and it will be removed in 0.25. Use the min_impurity_decrease parameter instead.\n",
      "  DeprecationWarning)\n",
      "C:\\Users\\milad\\Anaconda3\\lib\\site-packages\\sklearn\\tree\\tree.py:297: DeprecationWarning: The min_impurity_split parameter is deprecated. Its default value will change from 1e-7 to 0 in version 0.23, and it will be removed in 0.25. Use the min_impurity_decrease parameter instead.\n",
      "  DeprecationWarning)\n",
      "C:\\Users\\milad\\Anaconda3\\lib\\site-packages\\sklearn\\tree\\tree.py:297: DeprecationWarning: The min_impurity_split parameter is deprecated. Its default value will change from 1e-7 to 0 in version 0.23, and it will be removed in 0.25. Use the min_impurity_decrease parameter instead.\n",
      "  DeprecationWarning)\n",
      "C:\\Users\\milad\\Anaconda3\\lib\\site-packages\\sklearn\\tree\\tree.py:297: DeprecationWarning: The min_impurity_split parameter is deprecated. Its default value will change from 1e-7 to 0 in version 0.23, and it will be removed in 0.25. Use the min_impurity_decrease parameter instead.\n",
      "  DeprecationWarning)\n",
      "C:\\Users\\milad\\Anaconda3\\lib\\site-packages\\sklearn\\tree\\tree.py:297: DeprecationWarning: The min_impurity_split parameter is deprecated. Its default value will change from 1e-7 to 0 in version 0.23, and it will be removed in 0.25. Use the min_impurity_decrease parameter instead.\n",
      "  DeprecationWarning)\n",
      "C:\\Users\\milad\\Anaconda3\\lib\\site-packages\\sklearn\\tree\\tree.py:297: DeprecationWarning: The min_impurity_split parameter is deprecated. Its default value will change from 1e-7 to 0 in version 0.23, and it will be removed in 0.25. Use the min_impurity_decrease parameter instead.\n",
      "  DeprecationWarning)\n",
      "C:\\Users\\milad\\Anaconda3\\lib\\site-packages\\sklearn\\tree\\tree.py:297: DeprecationWarning: The min_impurity_split parameter is deprecated. Its default value will change from 1e-7 to 0 in version 0.23, and it will be removed in 0.25. Use the min_impurity_decrease parameter instead.\n",
      "  DeprecationWarning)\n",
      "C:\\Users\\milad\\Anaconda3\\lib\\site-packages\\sklearn\\tree\\tree.py:297: DeprecationWarning: The min_impurity_split parameter is deprecated. Its default value will change from 1e-7 to 0 in version 0.23, and it will be removed in 0.25. Use the min_impurity_decrease parameter instead.\n",
      "  DeprecationWarning)\n",
      "C:\\Users\\milad\\Anaconda3\\lib\\site-packages\\sklearn\\tree\\tree.py:297: DeprecationWarning: The min_impurity_split parameter is deprecated. Its default value will change from 1e-7 to 0 in version 0.23, and it will be removed in 0.25. Use the min_impurity_decrease parameter instead.\n",
      "  DeprecationWarning)\n",
      "C:\\Users\\milad\\Anaconda3\\lib\\site-packages\\sklearn\\tree\\tree.py:297: DeprecationWarning: The min_impurity_split parameter is deprecated. Its default value will change from 1e-7 to 0 in version 0.23, and it will be removed in 0.25. Use the min_impurity_decrease parameter instead.\n",
      "  DeprecationWarning)\n",
      "C:\\Users\\milad\\Anaconda3\\lib\\site-packages\\sklearn\\tree\\tree.py:297: DeprecationWarning: The min_impurity_split parameter is deprecated. Its default value will change from 1e-7 to 0 in version 0.23, and it will be removed in 0.25. Use the min_impurity_decrease parameter instead.\n",
      "  DeprecationWarning)\n",
      "C:\\Users\\milad\\Anaconda3\\lib\\site-packages\\sklearn\\tree\\tree.py:297: DeprecationWarning: The min_impurity_split parameter is deprecated. Its default value will change from 1e-7 to 0 in version 0.23, and it will be removed in 0.25. Use the min_impurity_decrease parameter instead.\n",
      "  DeprecationWarning)\n",
      "C:\\Users\\milad\\Anaconda3\\lib\\site-packages\\sklearn\\tree\\tree.py:297: DeprecationWarning: The min_impurity_split parameter is deprecated. Its default value will change from 1e-7 to 0 in version 0.23, and it will be removed in 0.25. Use the min_impurity_decrease parameter instead.\n",
      "  DeprecationWarning)\n",
      "C:\\Users\\milad\\Anaconda3\\lib\\site-packages\\sklearn\\tree\\tree.py:297: DeprecationWarning: The min_impurity_split parameter is deprecated. Its default value will change from 1e-7 to 0 in version 0.23, and it will be removed in 0.25. Use the min_impurity_decrease parameter instead.\n",
      "  DeprecationWarning)\n",
      "C:\\Users\\milad\\Anaconda3\\lib\\site-packages\\sklearn\\tree\\tree.py:297: DeprecationWarning: The min_impurity_split parameter is deprecated. Its default value will change from 1e-7 to 0 in version 0.23, and it will be removed in 0.25. Use the min_impurity_decrease parameter instead.\n",
      "  DeprecationWarning)\n",
      "C:\\Users\\milad\\Anaconda3\\lib\\site-packages\\sklearn\\tree\\tree.py:297: DeprecationWarning: The min_impurity_split parameter is deprecated. Its default value will change from 1e-7 to 0 in version 0.23, and it will be removed in 0.25. Use the min_impurity_decrease parameter instead.\n",
      "  DeprecationWarning)\n",
      "C:\\Users\\milad\\Anaconda3\\lib\\site-packages\\sklearn\\tree\\tree.py:297: DeprecationWarning: The min_impurity_split parameter is deprecated. Its default value will change from 1e-7 to 0 in version 0.23, and it will be removed in 0.25. Use the min_impurity_decrease parameter instead.\n",
      "  DeprecationWarning)\n",
      "C:\\Users\\milad\\Anaconda3\\lib\\site-packages\\sklearn\\tree\\tree.py:297: DeprecationWarning: The min_impurity_split parameter is deprecated. Its default value will change from 1e-7 to 0 in version 0.23, and it will be removed in 0.25. Use the min_impurity_decrease parameter instead.\n",
      "  DeprecationWarning)\n",
      "C:\\Users\\milad\\Anaconda3\\lib\\site-packages\\sklearn\\tree\\tree.py:297: DeprecationWarning: The min_impurity_split parameter is deprecated. Its default value will change from 1e-7 to 0 in version 0.23, and it will be removed in 0.25. Use the min_impurity_decrease parameter instead.\n",
      "  DeprecationWarning)\n",
      "C:\\Users\\milad\\Anaconda3\\lib\\site-packages\\sklearn\\tree\\tree.py:297: DeprecationWarning: The min_impurity_split parameter is deprecated. Its default value will change from 1e-7 to 0 in version 0.23, and it will be removed in 0.25. Use the min_impurity_decrease parameter instead.\n",
      "  DeprecationWarning)\n",
      "C:\\Users\\milad\\Anaconda3\\lib\\site-packages\\sklearn\\tree\\tree.py:297: DeprecationWarning: The min_impurity_split parameter is deprecated. Its default value will change from 1e-7 to 0 in version 0.23, and it will be removed in 0.25. Use the min_impurity_decrease parameter instead.\n",
      "  DeprecationWarning)\n",
      "C:\\Users\\milad\\Anaconda3\\lib\\site-packages\\sklearn\\tree\\tree.py:297: DeprecationWarning: The min_impurity_split parameter is deprecated. Its default value will change from 1e-7 to 0 in version 0.23, and it will be removed in 0.25. Use the min_impurity_decrease parameter instead.\n",
      "  DeprecationWarning)\n"
     ]
    }
   ],
   "source": [
    "#Grid Search\n",
    "import numpy as np\n",
    "from sklearn.metrics import make_scorer\n",
    "from sklearn.metrics import accuracy_score, average_precision_score, f1_score, recall_score\n",
    "\n",
    "from sklearn.model_selection import GridSearchCV\n",
    "param_grid = {'n_estimators': [50,100, 150,200], 'min_impurity_split':[0.0,0.1], 'oob_score': [False,True]}   #,150,200,250,300,350,400,450,500,550,600,650,700,750,800\n",
    "# scoring = {\n",
    "    # 'Percision': make_scorer(average_precision_score),\n",
    "    # 'f1': make_scorer(f1_score),\n",
    "    # 'Accuracy': make_scorer(accuracy_score),\n",
    "    # 'Recall': make_scorer(recall_score) }\n",
    "rfc_grid = RandomForestClassifier()\n",
    "grid_search = GridSearchCV(rfc_grid, param_grid, cv=5 , scoring='f1_macro' , return_train_score=True, refit='f1')\n",
    "grid_search.fit(X_train, y_train)\n",
    "cv_res = grid_search.cv_results_"
   ]
  },
  {
   "cell_type": "code",
   "execution_count": 32,
   "metadata": {},
   "outputs": [
    {
     "output_type": "stream",
     "name": "stdout",
     "text": [
      "f1_macro Score: 0.5782658325328571 {'min_impurity_split': 0.0, 'n_estimators': 50, 'oob_score': False}\nf1_macro Score: 0.5802022506823898 {'min_impurity_split': 0.0, 'n_estimators': 50, 'oob_score': True}\nf1_macro Score: 0.5909632584327508 {'min_impurity_split': 0.0, 'n_estimators': 100, 'oob_score': False}\nf1_macro Score: 0.5841378497429582 {'min_impurity_split': 0.0, 'n_estimators': 100, 'oob_score': True}\nf1_macro Score: 0.5890318963202029 {'min_impurity_split': 0.0, 'n_estimators': 150, 'oob_score': False}\nf1_macro Score: 0.5869321701660222 {'min_impurity_split': 0.0, 'n_estimators': 150, 'oob_score': True}\nf1_macro Score: 0.5875821402322728 {'min_impurity_split': 0.0, 'n_estimators': 200, 'oob_score': False}\nf1_macro Score: 0.5863318813546885 {'min_impurity_split': 0.0, 'n_estimators': 200, 'oob_score': True}\nf1_macro Score: 0.5785121400351341 {'min_impurity_split': 0.1, 'n_estimators': 50, 'oob_score': False}\nf1_macro Score: 0.5758565258635534 {'min_impurity_split': 0.1, 'n_estimators': 50, 'oob_score': True}\nf1_macro Score: 0.5719247488727239 {'min_impurity_split': 0.1, 'n_estimators': 100, 'oob_score': False}\nf1_macro Score: 0.5740697895823774 {'min_impurity_split': 0.1, 'n_estimators': 100, 'oob_score': True}\nf1_macro Score: 0.5750731994397963 {'min_impurity_split': 0.1, 'n_estimators': 150, 'oob_score': False}\nf1_macro Score: 0.5781837298070891 {'min_impurity_split': 0.1, 'n_estimators': 150, 'oob_score': True}\nf1_macro Score: 0.5788755336588707 {'min_impurity_split': 0.1, 'n_estimators': 200, 'oob_score': False}\nf1_macro Score: 0.5766235201600087 {'min_impurity_split': 0.1, 'n_estimators': 200, 'oob_score': True}\n"
     ]
    }
   ],
   "source": [
    "# print (cv_res.keys())\n",
    "for mean_score, params in zip(cv_res['mean_test_score'], cv_res['params']):\n",
    "    print ('f1_macro Score:',mean_score, params)"
   ]
  },
  {
   "cell_type": "code",
   "execution_count": 22,
   "metadata": {},
   "outputs": [
    {
     "output_type": "execute_result",
     "data": {
      "text/plain": [
       "array(['Entry', 'Utility', 'Kitchen', 'LivingRoom', 'Bedroom', 'Bath',\n",
       "       'Closet', 'DraughtLobby', 'Outdoor', 'Dining', 'Garage',\n",
       "       'DressingRoom', 'TechnicalRoom', 'Room', 'Sauna', 'Storage',\n",
       "       'Office', 'CarPort', 'Attic', 'Hall', 'Den', 'Alcove', 'Basement',\n",
       "       'Elevated', 'Library', 'RecreationRoom'], dtype=object)"
      ]
     },
     "metadata": {},
     "execution_count": 22
    }
   ],
   "source": [
    "data_exclude.type.unique()"
   ]
  },
  {
   "cell_type": "code",
   "execution_count": 43,
   "metadata": {
    "tags": []
   },
   "outputs": [
    {
     "output_type": "stream",
     "name": "stdout",
     "text": [
      "\n",
      "\n",
      "                precision    recall  f1-score   support\n",
      "\n",
      "        Alcove       0.64      0.74      0.69        58\n",
      "         Attic       0.41      0.50      0.45        30\n",
      "      Basement       0.05      0.06      0.06        16\n",
      "          Bath       0.97      0.95      0.96      2136\n",
      "       Bedroom       0.82      0.92      0.87      2397\n",
      "       CarPort       0.60      0.72      0.65        74\n",
      "        Closet       0.89      0.91      0.90       791\n",
      "           Den       0.62      0.55      0.58        86\n",
      "        Dining       0.79      0.87      0.83       311\n",
      "  DraughtLobby       0.87      0.95      0.91       498\n",
      "  DressingRoom       0.53      0.51      0.52       110\n",
      "      Elevated       0.54      0.22      0.31        32\n",
      "         Entry       0.89      0.93      0.91      1296\n",
      "        Garage       0.57      0.90      0.70       143\n",
      "          Hall       1.00      0.19      0.32        48\n",
      "       Kitchen       0.97      0.94      0.96      1322\n",
      "       Library       0.00      0.00      0.00        16\n",
      "    LivingRoom       0.83      0.96      0.89      1189\n",
      "        Office       0.40      0.06      0.10        36\n",
      "       Outdoor       0.97      0.96      0.97      2317\n",
      "RecreationRoom       0.33      0.04      0.06        28\n",
      "          Room       0.45      0.09      0.15       597\n",
      "         Sauna       0.79      0.84      0.82        32\n",
      "       Storage       0.76      0.71      0.74       535\n",
      " TechnicalRoom       0.66      0.61      0.64       137\n",
      "       Utility       0.83      0.83      0.83       317\n",
      "\n",
      "      accuracy                           0.87     14552\n",
      "     macro avg       0.66      0.61      0.61     14552\n",
      "  weighted avg       0.86      0.87      0.86     14552\n",
      "\n"
     ]
    }
   ],
   "source": [
    "#import random forest and metrics\n",
    "from sklearn.ensemble import RandomForestClassifier\n",
    "from sklearn.metrics import classification_report, confusion_matrix\n",
    "# Instanciate randomforest classifier \n",
    "rfc = RandomForestClassifier(\n",
    "                       bootstrap=True, class_weight=\"balanced\", criterion='entropy',\n",
    "                       max_depth=None, max_features='auto', max_leaf_nodes=None,\n",
    "                       min_impurity_decrease=0.0, min_impurity_split= None,\n",
    "                       min_samples_leaf=2, min_samples_split=2,\n",
    "                       min_weight_fraction_leaf=0.0, n_estimators=500,\n",
    "                       n_jobs=-1, oob_score=True, random_state=None,\n",
    "                       verbose=0, warm_start=False)\n",
    "# train model \n",
    "rfc.fit(X_train,y_train)\n",
    "# predict\n",
    "rfc_pred = rfc.predict(X_test)\n",
    "# Evaluate model\n",
    "# print( confusion_matrix(y_test,rfc_pred))\n",
    "print('\\n')\n",
    "print( classification_report(y_test,rfc_pred))"
   ]
  },
  {
   "cell_type": "code",
   "execution_count": 95,
   "metadata": {},
   "outputs": [
    {
     "output_type": "stream",
     "name": "stdout",
     "text": [
      "\n",
      "\n",
      "                precision    recall  f1-score   support\n",
      "\n",
      "        Alcove       0.77      0.59      0.67        51\n",
      "         Attic       0.80      0.18      0.30        22\n",
      "      Basement       0.00      0.00      0.00        17\n",
      "          Bath       0.96      0.97      0.97      2153\n",
      "       Bedroom       0.80      0.96      0.87      2339\n",
      "       CarPort       0.73      0.46      0.57        71\n",
      "        Closet       0.88      0.95      0.91       804\n",
      "           Den       0.76      0.39      0.52       104\n",
      "        Dining       0.82      0.85      0.84       281\n",
      "  DraughtLobby       0.93      0.93      0.93       491\n",
      "  DressingRoom       0.75      0.40      0.52        94\n",
      "      Elevated       1.00      0.03      0.06        32\n",
      "         Entry       0.88      0.95      0.92      1296\n",
      "        Garage       0.76      0.76      0.76       136\n",
      "          Hall       1.00      0.04      0.07        54\n",
      "       Kitchen       0.97      0.95      0.96      1373\n",
      "       Library       0.00      0.00      0.00        13\n",
      "    LivingRoom       0.82      0.94      0.88      1183\n",
      "        Office       0.00      0.00      0.00        34\n",
      "       Outdoor       0.95      0.98      0.97      2390\n",
      "RecreationRoom       0.50      0.04      0.07        26\n",
      "          Room       0.56      0.06      0.11       555\n",
      "         Sauna       0.91      0.78      0.84        37\n",
      "       Storage       0.77      0.75      0.76       564\n",
      " TechnicalRoom       0.88      0.55      0.68       139\n",
      "       Utility       0.87      0.82      0.84       293\n",
      "\n",
      "      accuracy                           0.88     14552\n",
      "     macro avg       0.73      0.55      0.58     14552\n",
      "  weighted avg       0.87      0.88      0.86     14552\n",
      "\n"
     ]
    }
   ],
   "source": [
    "#import random forest and metrics\n",
    "from sklearn.ensemble import RandomForestClassifier\n",
    "from sklearn.metrics import classification_report, confusion_matrix\n",
    "# Instanciate randomforest classifier \n",
    "rfc = RandomForestClassifier(n_estimators= 400 , max_depth= 25)\n",
    "# train model \n",
    "rfc.fit(X_train,y_train)\n",
    "# predict\n",
    "rfc_pred = rfc.predict(X_test)\n",
    "# Evaluate model\n",
    "# print( confusion_matrix(y_test,rfc_pred))\n",
    "print('\\n')\n",
    "print( classification_report(y_test,rfc_pred))"
   ]
  },
  {
   "cell_type": "code",
   "execution_count": 48,
   "metadata": {},
   "outputs": [
    {
     "output_type": "stream",
     "name": "stdout",
     "text": [
      "[2.15779573e-02 1.97642523e-02 9.55179072e-02 7.89792481e-02\n 8.73228959e-02 4.43770613e-02 3.41705740e-02 4.20285181e-02\n 1.27859537e-02 4.55803113e-02 4.28946085e-02 5.69521578e-02\n 4.19181486e-02 4.59693016e-02 2.70293193e-04 8.01212388e-06\n 2.77065740e-04 9.88460593e-05 2.13930677e-06 4.25433389e-05\n 1.36514789e-03 3.85773105e-02 1.57666399e-03 1.23445059e-02\n 3.16355124e-05 3.30061727e-04 9.01286348e-05 3.09908330e-03\n 5.59230219e-05 8.58684067e-04 8.32927218e-04 6.40405045e-04\n 2.72263133e-05 1.94906257e-03 1.67048660e-04 9.63173973e-04\n 8.28110859e-05 2.17360628e-04 7.02240463e-03 1.53220805e-02\n 2.08397860e-05 5.30029716e-04 3.63024733e-05 1.21010322e-03\n 1.66529693e-02 2.54230208e-03 8.52261947e-08 1.81821641e-06\n 1.70220469e-02 9.60405126e-03 7.27865648e-07 1.74820625e-04\n 2.41686947e-08 9.88256624e-08 2.27594907e-03 1.59032284e-02\n 5.12314625e-06 1.60753876e-04 2.14847950e-03 3.81537989e-03\n 6.39201478e-06 4.42247627e-05 3.69069327e-04 6.01281690e-03\n 2.29600578e-05 7.56156470e-04 3.93164324e-03 1.10359283e-02\n 9.17712964e-04 3.00806804e-03 3.48406491e-04 1.70827367e-03\n 2.65193983e-02 2.02779180e-05 8.52522959e-04 2.09195137e-02\n 1.44254807e-02 6.77150415e-05 6.57418979e-08 3.73768925e-04\n 3.43369304e-03 1.03385636e-06 8.47155295e-03 3.20584354e-04\n 1.65011055e-03 8.30138351e-04 1.34149202e-06 1.48799804e-05\n 5.74986743e-03 1.80364777e-03 2.48980079e-03 3.97365795e-03\n 7.05566708e-06 7.92294584e-09 5.97773123e-04 2.26187919e-02\n 7.00701603e-04 9.96832338e-03 5.27576904e-03 1.96828367e-04\n 0.00000000e+00 7.86148338e-03 4.49569284e-03 2.94629106e-07]\n"
     ]
    }
   ],
   "source": [
    "print(rfc.feature_importances_)"
   ]
  },
  {
   "cell_type": "code",
   "execution_count": 49,
   "metadata": {},
   "outputs": [
    {
     "output_type": "stream",
     "name": "stdout",
     "text": [
      "area 0.0955179072030424\nperimeter 0.08732289585502744\nproportion_floor_area 0.07897924811683532\nnum_doors 0.05695215778430777\nnum_fixtures 0.045969301572459854\nnum_adjacent_rooms 0.04558031129841582\ncompactness 0.04437706127866146\nnum_connected_rooms 0.0428946084752616\nproportion_exterior_walls 0.04202851808830378\nnum_windows 0.04191814862482499\ndoor_to_Bath 0.03857731047087445\nnum_adjacent_walls 0.03417057399387667\ncontains_BaseCabinet 0.026519398276790587\ncontains_Sink 0.022618791940853953\nfloor_index 0.02157795734740851\ncontains_Closet 0.020919513674859107\nnum_sides 0.01976425232405259\nopen_to_LivingRoom 0.01702204692569955\nopen_to_Kitchen 0.016652969270282775\ndoor_to_Outdoor 0.015903228388483955\ndoor_to_Entry 0.015322080453712196\ncontains_CoatCloset 0.014425480742387978\nnum_adjacent_railings 0.01278595374066089\ndoor_to_Bedroom 0.012344505932607967\ndoor_to_Undefined 0.011035928270337217\ncontains_Stove 0.009968323380516503\ndoor_to_LivingRoom 0.009604051262883348\ncontains_Fireplace 0.00847155295137325\ncontains_WallCabinet 0.007861483378305383\nopen_to_Entry 0.007022404630870795\ndoor_to_Storage 0.006012816898111957\ncontains_Refrigerator 0.005749867427068972\ncontains_Toilet 0.005275769039564765\ncontains_WashingMachine 0.004495692839666964\ncontains_Shower 0.003973657950189642\nopen_to_Undefined 0.0039316432353905025\ndoor_to_Room 0.003815379891293279\ncontains_ElectricalAppliance 0.0034336930385294863\ndoor_to_Closet 0.0030990833009019226\ndoor_to_UserDefined 0.003008068042183386\ndoor_to_Kitchen 0.0025423020765242134\ncontains_SaunaStove 0.002489800788987229\nopen_to_Outdoor 0.002275949071373176\nopen_to_Room 0.00214847950300018\ndoor_to_DraughtLobby 0.0019490625651692828\ncontains_SaunaBench 0.0018036477686788955\ndoor_to_Utility 0.0017082736707608535\ncontains_Heater 0.0016501105504547037\nopen_to_Bedroom 0.001576663991179504\nopen_to_Bath 0.0013651478885189521\ndoor_to_Hall 0.0012101032160313648\ndoor_to_DressingRoom 0.000963173972979052\nopen_to_UserDefined 0.0009177129640072169\ndoor_to_Den 0.0008586840665087891\ncontains_Chimney 0.000852522958855352\nopen_to_Dining 0.0008329272184807531\ncontains_Housing 0.0008301383507782004\ndoor_to_TechnicalRoom 0.000756156470095093\ncontains_SpaceForAppliance 0.0007007016028532079\ndoor_to_Dining 0.0006404050450516184\ncontains_ShowerScreen 0.0005977731229544232\ndoor_to_Garage 0.0005300297156479231\ncontains_Dishwasher 0.00037376892521672443\nopen_to_Storage 0.0003690693271740169\nopen_to_Utility 0.00034840649121861727\ndoor_to_CarPort 0.00033006172697064583\ncontains_GEA 0.00032058435409548975\nopen_to_Attic 0.0002770657402429539\nopen_to_Alcove 0.0002702931931195248\ndoor_to_Elevated 0.00021736062779770785\ncontains_TumbleDryer 0.00019682836734572984\ndoor_to_Office 0.0001748206253029352\nopen_to_DressingRoom 0.00016704865952638922\ndoor_to_RecreationRoom 0.00016075387635317964\ndoor_to_Attic 9.88460592714262e-05\nopen_to_Closet 9.012863476672282e-05\nopen_to_Elevated 8.281108589245957e-05\ncontains_CoatRack 6.771504147544363e-05\nopen_to_Den 5.5923021892248674e-05\ndoor_to_Sauna 4.4224762713336826e-05\ndoor_to_Basement 4.2543338897240616e-05\nopen_to_Hall 3.630247328668442e-05\nopen_to_CarPort 3.16355124113094e-05\nopen_to_DraughtLobby 2.722631331884316e-05\nopen_to_TechnicalRoom 2.2960057817222778e-05\nopen_to_Garage 2.0839786015990554e-05\ncontains_Bathtub 2.0277918015307478e-05\ncontains_PlaceForFireplace 1.4879980388193365e-05\ndoor_to_Alcove 8.012123883449101e-06\ncontains_ShowerCab 7.0556670771391395e-06\nopen_to_Sauna 6.392014783786425e-06\nopen_to_RecreationRoom 5.123146248163713e-06\nopen_to_Basement 2.1393067718887223e-06\ndoor_to_Library 1.818216414298339e-06\ncontains_Jacuzzi 1.3414920152872654e-06\ncontains_Fan 1.03385636174852e-06\nopen_to_Office 7.278656476803783e-07\ncontains_WaterTap 2.946291059190291e-07\ndoor_to_Other 9.882566235282028e-08\nopen_to_Library 8.5226194654289e-08\ncontains_CounterTop 6.574189794011803e-08\nopen_to_Other 2.4168694653480064e-08\ncontains_ShowerPlatform 7.922945836444213e-09\ncontains_Urinal 0.0\n"
     ]
    }
   ],
   "source": [
    "f_import = list(zip(X_train,rfc.feature_importances_))\n",
    "for name,score in sorted(f_import, key = lambda x: x[1], reverse = True):\n",
    "    print(name,score)"
   ]
  },
  {
   "cell_type": "code",
   "execution_count": 86,
   "metadata": {},
   "outputs": [],
   "source": [
    "import seaborn as sns\n",
    "import pandas as pd"
   ]
  },
  {
   "cell_type": "code",
   "execution_count": 110,
   "metadata": {},
   "outputs": [
    {
     "output_type": "execute_result",
     "data": {
      "text/plain": [
       "<matplotlib.axes._subplots.AxesSubplot at 0x1e2855b6588>"
      ]
     },
     "metadata": {},
     "execution_count": 110
    },
    {
     "output_type": "display_data",
     "data": {
      "text/plain": "<Figure size 432x288 with 1 Axes>",
      "image/svg+xml": "<?xml version=\"1.0\" encoding=\"utf-8\" standalone=\"no\"?>\r\n<!DOCTYPE svg PUBLIC \"-//W3C//DTD SVG 1.1//EN\"\r\n  \"http://www.w3.org/Graphics/SVG/1.1/DTD/svg11.dtd\">\r\n<!-- Created with matplotlib (https://matplotlib.org/) -->\r\n<svg height=\"265.636621pt\" version=\"1.1\" viewBox=\"0 0 392.14375 265.636621\" width=\"392.14375pt\" xmlns=\"http://www.w3.org/2000/svg\" xmlns:xlink=\"http://www.w3.org/1999/xlink\">\r\n <defs>\r\n  <style type=\"text/css\">\r\n*{stroke-linecap:butt;stroke-linejoin:round;}\r\n  </style>\r\n </defs>\r\n <g id=\"figure_1\">\r\n  <g id=\"patch_1\">\r\n   <path d=\"M 0 265.636621 \r\nL 392.14375 265.636621 \r\nL 392.14375 0 \r\nL 0 0 \r\nz\r\n\" style=\"fill:none;\"/>\r\n  </g>\r\n  <g id=\"axes_1\">\r\n   <g id=\"patch_2\">\r\n    <path d=\"M 50.14375 227.802246 \r\nL 384.94375 227.802246 \r\nL 384.94375 10.362246 \r\nL 50.14375 10.362246 \r\nz\r\n\" style=\"fill:#ffffff;\"/>\r\n   </g>\r\n   <g id=\"patch_3\">\r\n    <path clip-path=\"url(#p9077d6d5eb)\" d=\"M 61.30375 227.802246 \r\nL 150.58375 227.802246 \r\nL 150.58375 20.716532 \r\nL 61.30375 20.716532 \r\nz\r\n\" style=\"fill:#3274a1;\"/>\r\n   </g>\r\n   <g id=\"patch_4\">\r\n    <path clip-path=\"url(#p9077d6d5eb)\" d=\"M 172.90375 227.802246 \r\nL 262.18375 227.802246 \r\nL 262.18375 38.483564 \r\nL 172.90375 38.483564 \r\nz\r\n\" style=\"fill:#e1812c;\"/>\r\n   </g>\r\n   <g id=\"patch_5\">\r\n    <path clip-path=\"url(#p9077d6d5eb)\" d=\"M 284.50375 227.802246 \r\nL 373.78375 227.802246 \r\nL 373.78375 56.572845 \r\nL 284.50375 56.572845 \r\nz\r\n\" style=\"fill:#3a923a;\"/>\r\n   </g>\r\n   <g id=\"matplotlib.axis_1\">\r\n    <g id=\"xtick_1\">\r\n     <g id=\"line2d_1\">\r\n      <defs>\r\n       <path d=\"M 0 0 \r\nL 0 3.5 \r\n\" id=\"mce52ae3843\" style=\"stroke:#000000;stroke-width:0.8;\"/>\r\n      </defs>\r\n      <g>\r\n       <use style=\"stroke:#000000;stroke-width:0.8;\" x=\"105.94375\" xlink:href=\"#mce52ae3843\" y=\"227.802246\"/>\r\n      </g>\r\n     </g>\r\n     <g id=\"text_1\">\r\n      <!-- area -->\r\n      <defs>\r\n       <path d=\"M 34.28125 27.484375 \r\nQ 23.390625 27.484375 19.1875 25 \r\nQ 14.984375 22.515625 14.984375 16.5 \r\nQ 14.984375 11.71875 18.140625 8.90625 \r\nQ 21.296875 6.109375 26.703125 6.109375 \r\nQ 34.1875 6.109375 38.703125 11.40625 \r\nQ 43.21875 16.703125 43.21875 25.484375 \r\nL 43.21875 27.484375 \r\nz\r\nM 52.203125 31.203125 \r\nL 52.203125 0 \r\nL 43.21875 0 \r\nL 43.21875 8.296875 \r\nQ 40.140625 3.328125 35.546875 0.953125 \r\nQ 30.953125 -1.421875 24.3125 -1.421875 \r\nQ 15.921875 -1.421875 10.953125 3.296875 \r\nQ 6 8.015625 6 15.921875 \r\nQ 6 25.140625 12.171875 29.828125 \r\nQ 18.359375 34.515625 30.609375 34.515625 \r\nL 43.21875 34.515625 \r\nL 43.21875 35.40625 \r\nQ 43.21875 41.609375 39.140625 45 \r\nQ 35.0625 48.390625 27.6875 48.390625 \r\nQ 23 48.390625 18.546875 47.265625 \r\nQ 14.109375 46.140625 10.015625 43.890625 \r\nL 10.015625 52.203125 \r\nQ 14.9375 54.109375 19.578125 55.046875 \r\nQ 24.21875 56 28.609375 56 \r\nQ 40.484375 56 46.34375 49.84375 \r\nQ 52.203125 43.703125 52.203125 31.203125 \r\nz\r\n\" id=\"DejaVuSans-97\"/>\r\n       <path d=\"M 41.109375 46.296875 \r\nQ 39.59375 47.171875 37.8125 47.578125 \r\nQ 36.03125 48 33.890625 48 \r\nQ 26.265625 48 22.1875 43.046875 \r\nQ 18.109375 38.09375 18.109375 28.8125 \r\nL 18.109375 0 \r\nL 9.078125 0 \r\nL 9.078125 54.6875 \r\nL 18.109375 54.6875 \r\nL 18.109375 46.1875 \r\nQ 20.953125 51.171875 25.484375 53.578125 \r\nQ 30.03125 56 36.53125 56 \r\nQ 37.453125 56 38.578125 55.875 \r\nQ 39.703125 55.765625 41.0625 55.515625 \r\nz\r\n\" id=\"DejaVuSans-114\"/>\r\n       <path d=\"M 56.203125 29.59375 \r\nL 56.203125 25.203125 \r\nL 14.890625 25.203125 \r\nQ 15.484375 15.921875 20.484375 11.0625 \r\nQ 25.484375 6.203125 34.421875 6.203125 \r\nQ 39.59375 6.203125 44.453125 7.46875 \r\nQ 49.3125 8.734375 54.109375 11.28125 \r\nL 54.109375 2.78125 \r\nQ 49.265625 0.734375 44.1875 -0.34375 \r\nQ 39.109375 -1.421875 33.890625 -1.421875 \r\nQ 20.796875 -1.421875 13.15625 6.1875 \r\nQ 5.515625 13.8125 5.515625 26.8125 \r\nQ 5.515625 40.234375 12.765625 48.109375 \r\nQ 20.015625 56 32.328125 56 \r\nQ 43.359375 56 49.78125 48.890625 \r\nQ 56.203125 41.796875 56.203125 29.59375 \r\nz\r\nM 47.21875 32.234375 \r\nQ 47.125 39.59375 43.09375 43.984375 \r\nQ 39.0625 48.390625 32.421875 48.390625 \r\nQ 24.90625 48.390625 20.390625 44.140625 \r\nQ 15.875 39.890625 15.1875 32.171875 \r\nz\r\n\" id=\"DejaVuSans-101\"/>\r\n      </defs>\r\n      <g transform=\"translate(94.685156 242.400683)scale(0.1 -0.1)\">\r\n       <use xlink:href=\"#DejaVuSans-97\"/>\r\n       <use x=\"61.279297\" xlink:href=\"#DejaVuSans-114\"/>\r\n       <use x=\"102.361328\" xlink:href=\"#DejaVuSans-101\"/>\r\n       <use x=\"163.884766\" xlink:href=\"#DejaVuSans-97\"/>\r\n      </g>\r\n     </g>\r\n    </g>\r\n    <g id=\"xtick_2\">\r\n     <g id=\"line2d_2\">\r\n      <g>\r\n       <use style=\"stroke:#000000;stroke-width:0.8;\" x=\"217.54375\" xlink:href=\"#mce52ae3843\" y=\"227.802246\"/>\r\n      </g>\r\n     </g>\r\n     <g id=\"text_2\">\r\n      <!-- perimeter -->\r\n      <defs>\r\n       <path d=\"M 18.109375 8.203125 \r\nL 18.109375 -20.796875 \r\nL 9.078125 -20.796875 \r\nL 9.078125 54.6875 \r\nL 18.109375 54.6875 \r\nL 18.109375 46.390625 \r\nQ 20.953125 51.265625 25.265625 53.625 \r\nQ 29.59375 56 35.59375 56 \r\nQ 45.5625 56 51.78125 48.09375 \r\nQ 58.015625 40.1875 58.015625 27.296875 \r\nQ 58.015625 14.40625 51.78125 6.484375 \r\nQ 45.5625 -1.421875 35.59375 -1.421875 \r\nQ 29.59375 -1.421875 25.265625 0.953125 \r\nQ 20.953125 3.328125 18.109375 8.203125 \r\nz\r\nM 48.6875 27.296875 \r\nQ 48.6875 37.203125 44.609375 42.84375 \r\nQ 40.53125 48.484375 33.40625 48.484375 \r\nQ 26.265625 48.484375 22.1875 42.84375 \r\nQ 18.109375 37.203125 18.109375 27.296875 \r\nQ 18.109375 17.390625 22.1875 11.75 \r\nQ 26.265625 6.109375 33.40625 6.109375 \r\nQ 40.53125 6.109375 44.609375 11.75 \r\nQ 48.6875 17.390625 48.6875 27.296875 \r\nz\r\n\" id=\"DejaVuSans-112\"/>\r\n       <path d=\"M 9.421875 54.6875 \r\nL 18.40625 54.6875 \r\nL 18.40625 0 \r\nL 9.421875 0 \r\nz\r\nM 9.421875 75.984375 \r\nL 18.40625 75.984375 \r\nL 18.40625 64.59375 \r\nL 9.421875 64.59375 \r\nz\r\n\" id=\"DejaVuSans-105\"/>\r\n       <path d=\"M 52 44.1875 \r\nQ 55.375 50.25 60.0625 53.125 \r\nQ 64.75 56 71.09375 56 \r\nQ 79.640625 56 84.28125 50.015625 \r\nQ 88.921875 44.046875 88.921875 33.015625 \r\nL 88.921875 0 \r\nL 79.890625 0 \r\nL 79.890625 32.71875 \r\nQ 79.890625 40.578125 77.09375 44.375 \r\nQ 74.3125 48.1875 68.609375 48.1875 \r\nQ 61.625 48.1875 57.5625 43.546875 \r\nQ 53.515625 38.921875 53.515625 30.90625 \r\nL 53.515625 0 \r\nL 44.484375 0 \r\nL 44.484375 32.71875 \r\nQ 44.484375 40.625 41.703125 44.40625 \r\nQ 38.921875 48.1875 33.109375 48.1875 \r\nQ 26.21875 48.1875 22.15625 43.53125 \r\nQ 18.109375 38.875 18.109375 30.90625 \r\nL 18.109375 0 \r\nL 9.078125 0 \r\nL 9.078125 54.6875 \r\nL 18.109375 54.6875 \r\nL 18.109375 46.1875 \r\nQ 21.1875 51.21875 25.484375 53.609375 \r\nQ 29.78125 56 35.6875 56 \r\nQ 41.65625 56 45.828125 52.96875 \r\nQ 50 49.953125 52 44.1875 \r\nz\r\n\" id=\"DejaVuSans-109\"/>\r\n       <path d=\"M 18.3125 70.21875 \r\nL 18.3125 54.6875 \r\nL 36.8125 54.6875 \r\nL 36.8125 47.703125 \r\nL 18.3125 47.703125 \r\nL 18.3125 18.015625 \r\nQ 18.3125 11.328125 20.140625 9.421875 \r\nQ 21.96875 7.515625 27.59375 7.515625 \r\nL 36.8125 7.515625 \r\nL 36.8125 0 \r\nL 27.59375 0 \r\nQ 17.1875 0 13.234375 3.875 \r\nQ 9.28125 7.765625 9.28125 18.015625 \r\nL 9.28125 47.703125 \r\nL 2.6875 47.703125 \r\nL 2.6875 54.6875 \r\nL 9.28125 54.6875 \r\nL 9.28125 70.21875 \r\nz\r\n\" id=\"DejaVuSans-116\"/>\r\n      </defs>\r\n      <g transform=\"translate(192.809375 242.400683)scale(0.1 -0.1)\">\r\n       <use xlink:href=\"#DejaVuSans-112\"/>\r\n       <use x=\"63.476562\" xlink:href=\"#DejaVuSans-101\"/>\r\n       <use x=\"125\" xlink:href=\"#DejaVuSans-114\"/>\r\n       <use x=\"166.113281\" xlink:href=\"#DejaVuSans-105\"/>\r\n       <use x=\"193.896484\" xlink:href=\"#DejaVuSans-109\"/>\r\n       <use x=\"291.308594\" xlink:href=\"#DejaVuSans-101\"/>\r\n       <use x=\"352.832031\" xlink:href=\"#DejaVuSans-116\"/>\r\n       <use x=\"392.041016\" xlink:href=\"#DejaVuSans-101\"/>\r\n       <use x=\"453.564453\" xlink:href=\"#DejaVuSans-114\"/>\r\n      </g>\r\n     </g>\r\n    </g>\r\n    <g id=\"xtick_3\">\r\n     <g id=\"line2d_3\">\r\n      <g>\r\n       <use style=\"stroke:#000000;stroke-width:0.8;\" x=\"329.14375\" xlink:href=\"#mce52ae3843\" y=\"227.802246\"/>\r\n      </g>\r\n     </g>\r\n     <g id=\"text_3\">\r\n      <!-- proportion_floor_area -->\r\n      <defs>\r\n       <path d=\"M 30.609375 48.390625 \r\nQ 23.390625 48.390625 19.1875 42.75 \r\nQ 14.984375 37.109375 14.984375 27.296875 \r\nQ 14.984375 17.484375 19.15625 11.84375 \r\nQ 23.34375 6.203125 30.609375 6.203125 \r\nQ 37.796875 6.203125 41.984375 11.859375 \r\nQ 46.1875 17.53125 46.1875 27.296875 \r\nQ 46.1875 37.015625 41.984375 42.703125 \r\nQ 37.796875 48.390625 30.609375 48.390625 \r\nz\r\nM 30.609375 56 \r\nQ 42.328125 56 49.015625 48.375 \r\nQ 55.71875 40.765625 55.71875 27.296875 \r\nQ 55.71875 13.875 49.015625 6.21875 \r\nQ 42.328125 -1.421875 30.609375 -1.421875 \r\nQ 18.84375 -1.421875 12.171875 6.21875 \r\nQ 5.515625 13.875 5.515625 27.296875 \r\nQ 5.515625 40.765625 12.171875 48.375 \r\nQ 18.84375 56 30.609375 56 \r\nz\r\n\" id=\"DejaVuSans-111\"/>\r\n       <path d=\"M 54.890625 33.015625 \r\nL 54.890625 0 \r\nL 45.90625 0 \r\nL 45.90625 32.71875 \r\nQ 45.90625 40.484375 42.875 44.328125 \r\nQ 39.84375 48.1875 33.796875 48.1875 \r\nQ 26.515625 48.1875 22.3125 43.546875 \r\nQ 18.109375 38.921875 18.109375 30.90625 \r\nL 18.109375 0 \r\nL 9.078125 0 \r\nL 9.078125 54.6875 \r\nL 18.109375 54.6875 \r\nL 18.109375 46.1875 \r\nQ 21.34375 51.125 25.703125 53.5625 \r\nQ 30.078125 56 35.796875 56 \r\nQ 45.21875 56 50.046875 50.171875 \r\nQ 54.890625 44.34375 54.890625 33.015625 \r\nz\r\n\" id=\"DejaVuSans-110\"/>\r\n       <path d=\"M 50.984375 -16.609375 \r\nL 50.984375 -23.578125 \r\nL -0.984375 -23.578125 \r\nL -0.984375 -16.609375 \r\nz\r\n\" id=\"DejaVuSans-95\"/>\r\n       <path d=\"M 37.109375 75.984375 \r\nL 37.109375 68.5 \r\nL 28.515625 68.5 \r\nQ 23.6875 68.5 21.796875 66.546875 \r\nQ 19.921875 64.59375 19.921875 59.515625 \r\nL 19.921875 54.6875 \r\nL 34.71875 54.6875 \r\nL 34.71875 47.703125 \r\nL 19.921875 47.703125 \r\nL 19.921875 0 \r\nL 10.890625 0 \r\nL 10.890625 47.703125 \r\nL 2.296875 47.703125 \r\nL 2.296875 54.6875 \r\nL 10.890625 54.6875 \r\nL 10.890625 58.5 \r\nQ 10.890625 67.625 15.140625 71.796875 \r\nQ 19.390625 75.984375 28.609375 75.984375 \r\nz\r\n\" id=\"DejaVuSans-102\"/>\r\n       <path d=\"M 9.421875 75.984375 \r\nL 18.40625 75.984375 \r\nL 18.40625 0 \r\nL 9.421875 0 \r\nz\r\n\" id=\"DejaVuSans-108\"/>\r\n      </defs>\r\n      <g transform=\"translate(275.407812 242.400683)scale(0.1 -0.1)\">\r\n       <use xlink:href=\"#DejaVuSans-112\"/>\r\n       <use x=\"63.476562\" xlink:href=\"#DejaVuSans-114\"/>\r\n       <use x=\"104.558594\" xlink:href=\"#DejaVuSans-111\"/>\r\n       <use x=\"165.740234\" xlink:href=\"#DejaVuSans-112\"/>\r\n       <use x=\"229.216797\" xlink:href=\"#DejaVuSans-111\"/>\r\n       <use x=\"290.398438\" xlink:href=\"#DejaVuSans-114\"/>\r\n       <use x=\"331.511719\" xlink:href=\"#DejaVuSans-116\"/>\r\n       <use x=\"370.720703\" xlink:href=\"#DejaVuSans-105\"/>\r\n       <use x=\"398.503906\" xlink:href=\"#DejaVuSans-111\"/>\r\n       <use x=\"459.685547\" xlink:href=\"#DejaVuSans-110\"/>\r\n       <use x=\"523.064453\" xlink:href=\"#DejaVuSans-95\"/>\r\n       <use x=\"573.064453\" xlink:href=\"#DejaVuSans-102\"/>\r\n       <use x=\"608.269531\" xlink:href=\"#DejaVuSans-108\"/>\r\n       <use x=\"636.052734\" xlink:href=\"#DejaVuSans-111\"/>\r\n       <use x=\"697.234375\" xlink:href=\"#DejaVuSans-111\"/>\r\n       <use x=\"758.416016\" xlink:href=\"#DejaVuSans-114\"/>\r\n       <use x=\"799.529297\" xlink:href=\"#DejaVuSans-95\"/>\r\n       <use x=\"849.529297\" xlink:href=\"#DejaVuSans-97\"/>\r\n       <use x=\"910.808594\" xlink:href=\"#DejaVuSans-114\"/>\r\n       <use x=\"951.890625\" xlink:href=\"#DejaVuSans-101\"/>\r\n       <use x=\"1013.414062\" xlink:href=\"#DejaVuSans-97\"/>\r\n      </g>\r\n     </g>\r\n    </g>\r\n    <g id=\"text_4\">\r\n     <!-- type -->\r\n     <defs>\r\n      <path d=\"M 32.171875 -5.078125 \r\nQ 28.375 -14.84375 24.75 -17.8125 \r\nQ 21.140625 -20.796875 15.09375 -20.796875 \r\nL 7.90625 -20.796875 \r\nL 7.90625 -13.28125 \r\nL 13.1875 -13.28125 \r\nQ 16.890625 -13.28125 18.9375 -11.515625 \r\nQ 21 -9.765625 23.484375 -3.21875 \r\nL 25.09375 0.875 \r\nL 2.984375 54.6875 \r\nL 12.5 54.6875 \r\nL 29.59375 11.921875 \r\nL 46.6875 54.6875 \r\nL 56.203125 54.6875 \r\nz\r\n\" id=\"DejaVuSans-121\"/>\r\n     </defs>\r\n     <g transform=\"translate(206.373438 256.356933)scale(0.1 -0.1)\">\r\n      <use xlink:href=\"#DejaVuSans-116\"/>\r\n      <use x=\"39.208984\" xlink:href=\"#DejaVuSans-121\"/>\r\n      <use x=\"98.388672\" xlink:href=\"#DejaVuSans-112\"/>\r\n      <use x=\"161.865234\" xlink:href=\"#DejaVuSans-101\"/>\r\n     </g>\r\n    </g>\r\n   </g>\r\n   <g id=\"matplotlib.axis_2\">\r\n    <g id=\"ytick_1\">\r\n     <g id=\"line2d_4\">\r\n      <defs>\r\n       <path d=\"M 0 0 \r\nL -3.5 0 \r\n\" id=\"m75d37ee6aa\" style=\"stroke:#000000;stroke-width:0.8;\"/>\r\n      </defs>\r\n      <g>\r\n       <use style=\"stroke:#000000;stroke-width:0.8;\" x=\"50.14375\" xlink:href=\"#m75d37ee6aa\" y=\"227.802246\"/>\r\n      </g>\r\n     </g>\r\n     <g id=\"text_5\">\r\n      <!-- 0.00 -->\r\n      <defs>\r\n       <path d=\"M 31.78125 66.40625 \r\nQ 24.171875 66.40625 20.328125 58.90625 \r\nQ 16.5 51.421875 16.5 36.375 \r\nQ 16.5 21.390625 20.328125 13.890625 \r\nQ 24.171875 6.390625 31.78125 6.390625 \r\nQ 39.453125 6.390625 43.28125 13.890625 \r\nQ 47.125 21.390625 47.125 36.375 \r\nQ 47.125 51.421875 43.28125 58.90625 \r\nQ 39.453125 66.40625 31.78125 66.40625 \r\nz\r\nM 31.78125 74.21875 \r\nQ 44.046875 74.21875 50.515625 64.515625 \r\nQ 56.984375 54.828125 56.984375 36.375 \r\nQ 56.984375 17.96875 50.515625 8.265625 \r\nQ 44.046875 -1.421875 31.78125 -1.421875 \r\nQ 19.53125 -1.421875 13.0625 8.265625 \r\nQ 6.59375 17.96875 6.59375 36.375 \r\nQ 6.59375 54.828125 13.0625 64.515625 \r\nQ 19.53125 74.21875 31.78125 74.21875 \r\nz\r\n\" id=\"DejaVuSans-48\"/>\r\n       <path d=\"M 10.6875 12.40625 \r\nL 21 12.40625 \r\nL 21 0 \r\nL 10.6875 0 \r\nz\r\n\" id=\"DejaVuSans-46\"/>\r\n      </defs>\r\n      <g transform=\"translate(20.878125 231.601465)scale(0.1 -0.1)\">\r\n       <use xlink:href=\"#DejaVuSans-48\"/>\r\n       <use x=\"63.623047\" xlink:href=\"#DejaVuSans-46\"/>\r\n       <use x=\"95.410156\" xlink:href=\"#DejaVuSans-48\"/>\r\n       <use x=\"159.033203\" xlink:href=\"#DejaVuSans-48\"/>\r\n      </g>\r\n     </g>\r\n    </g>\r\n    <g id=\"ytick_2\">\r\n     <g id=\"line2d_5\">\r\n      <g>\r\n       <use style=\"stroke:#000000;stroke-width:0.8;\" x=\"50.14375\" xlink:href=\"#m75d37ee6aa\" y=\"184.44164\"/>\r\n      </g>\r\n     </g>\r\n     <g id=\"text_6\">\r\n      <!-- 0.02 -->\r\n      <defs>\r\n       <path d=\"M 19.1875 8.296875 \r\nL 53.609375 8.296875 \r\nL 53.609375 0 \r\nL 7.328125 0 \r\nL 7.328125 8.296875 \r\nQ 12.9375 14.109375 22.625 23.890625 \r\nQ 32.328125 33.6875 34.8125 36.53125 \r\nQ 39.546875 41.84375 41.421875 45.53125 \r\nQ 43.3125 49.21875 43.3125 52.78125 \r\nQ 43.3125 58.59375 39.234375 62.25 \r\nQ 35.15625 65.921875 28.609375 65.921875 \r\nQ 23.96875 65.921875 18.8125 64.3125 \r\nQ 13.671875 62.703125 7.8125 59.421875 \r\nL 7.8125 69.390625 \r\nQ 13.765625 71.78125 18.9375 73 \r\nQ 24.125 74.21875 28.421875 74.21875 \r\nQ 39.75 74.21875 46.484375 68.546875 \r\nQ 53.21875 62.890625 53.21875 53.421875 \r\nQ 53.21875 48.921875 51.53125 44.890625 \r\nQ 49.859375 40.875 45.40625 35.40625 \r\nQ 44.1875 33.984375 37.640625 27.21875 \r\nQ 31.109375 20.453125 19.1875 8.296875 \r\nz\r\n\" id=\"DejaVuSans-50\"/>\r\n      </defs>\r\n      <g transform=\"translate(20.878125 188.240859)scale(0.1 -0.1)\">\r\n       <use xlink:href=\"#DejaVuSans-48\"/>\r\n       <use x=\"63.623047\" xlink:href=\"#DejaVuSans-46\"/>\r\n       <use x=\"95.410156\" xlink:href=\"#DejaVuSans-48\"/>\r\n       <use x=\"159.033203\" xlink:href=\"#DejaVuSans-50\"/>\r\n      </g>\r\n     </g>\r\n    </g>\r\n    <g id=\"ytick_3\">\r\n     <g id=\"line2d_6\">\r\n      <g>\r\n       <use style=\"stroke:#000000;stroke-width:0.8;\" x=\"50.14375\" xlink:href=\"#m75d37ee6aa\" y=\"141.081035\"/>\r\n      </g>\r\n     </g>\r\n     <g id=\"text_7\">\r\n      <!-- 0.04 -->\r\n      <defs>\r\n       <path d=\"M 37.796875 64.3125 \r\nL 12.890625 25.390625 \r\nL 37.796875 25.390625 \r\nz\r\nM 35.203125 72.90625 \r\nL 47.609375 72.90625 \r\nL 47.609375 25.390625 \r\nL 58.015625 25.390625 \r\nL 58.015625 17.1875 \r\nL 47.609375 17.1875 \r\nL 47.609375 0 \r\nL 37.796875 0 \r\nL 37.796875 17.1875 \r\nL 4.890625 17.1875 \r\nL 4.890625 26.703125 \r\nz\r\n\" id=\"DejaVuSans-52\"/>\r\n      </defs>\r\n      <g transform=\"translate(20.878125 144.880254)scale(0.1 -0.1)\">\r\n       <use xlink:href=\"#DejaVuSans-48\"/>\r\n       <use x=\"63.623047\" xlink:href=\"#DejaVuSans-46\"/>\r\n       <use x=\"95.410156\" xlink:href=\"#DejaVuSans-48\"/>\r\n       <use x=\"159.033203\" xlink:href=\"#DejaVuSans-52\"/>\r\n      </g>\r\n     </g>\r\n    </g>\r\n    <g id=\"ytick_4\">\r\n     <g id=\"line2d_7\">\r\n      <g>\r\n       <use style=\"stroke:#000000;stroke-width:0.8;\" x=\"50.14375\" xlink:href=\"#m75d37ee6aa\" y=\"97.72043\"/>\r\n      </g>\r\n     </g>\r\n     <g id=\"text_8\">\r\n      <!-- 0.06 -->\r\n      <defs>\r\n       <path d=\"M 33.015625 40.375 \r\nQ 26.375 40.375 22.484375 35.828125 \r\nQ 18.609375 31.296875 18.609375 23.390625 \r\nQ 18.609375 15.53125 22.484375 10.953125 \r\nQ 26.375 6.390625 33.015625 6.390625 \r\nQ 39.65625 6.390625 43.53125 10.953125 \r\nQ 47.40625 15.53125 47.40625 23.390625 \r\nQ 47.40625 31.296875 43.53125 35.828125 \r\nQ 39.65625 40.375 33.015625 40.375 \r\nz\r\nM 52.59375 71.296875 \r\nL 52.59375 62.3125 \r\nQ 48.875 64.0625 45.09375 64.984375 \r\nQ 41.3125 65.921875 37.59375 65.921875 \r\nQ 27.828125 65.921875 22.671875 59.328125 \r\nQ 17.53125 52.734375 16.796875 39.40625 \r\nQ 19.671875 43.65625 24.015625 45.921875 \r\nQ 28.375 48.1875 33.59375 48.1875 \r\nQ 44.578125 48.1875 50.953125 41.515625 \r\nQ 57.328125 34.859375 57.328125 23.390625 \r\nQ 57.328125 12.15625 50.6875 5.359375 \r\nQ 44.046875 -1.421875 33.015625 -1.421875 \r\nQ 20.359375 -1.421875 13.671875 8.265625 \r\nQ 6.984375 17.96875 6.984375 36.375 \r\nQ 6.984375 53.65625 15.1875 63.9375 \r\nQ 23.390625 74.21875 37.203125 74.21875 \r\nQ 40.921875 74.21875 44.703125 73.484375 \r\nQ 48.484375 72.75 52.59375 71.296875 \r\nz\r\n\" id=\"DejaVuSans-54\"/>\r\n      </defs>\r\n      <g transform=\"translate(20.878125 101.519648)scale(0.1 -0.1)\">\r\n       <use xlink:href=\"#DejaVuSans-48\"/>\r\n       <use x=\"63.623047\" xlink:href=\"#DejaVuSans-46\"/>\r\n       <use x=\"95.410156\" xlink:href=\"#DejaVuSans-48\"/>\r\n       <use x=\"159.033203\" xlink:href=\"#DejaVuSans-54\"/>\r\n      </g>\r\n     </g>\r\n    </g>\r\n    <g id=\"ytick_5\">\r\n     <g id=\"line2d_8\">\r\n      <g>\r\n       <use style=\"stroke:#000000;stroke-width:0.8;\" x=\"50.14375\" xlink:href=\"#m75d37ee6aa\" y=\"54.359824\"/>\r\n      </g>\r\n     </g>\r\n     <g id=\"text_9\">\r\n      <!-- 0.08 -->\r\n      <defs>\r\n       <path d=\"M 31.78125 34.625 \r\nQ 24.75 34.625 20.71875 30.859375 \r\nQ 16.703125 27.09375 16.703125 20.515625 \r\nQ 16.703125 13.921875 20.71875 10.15625 \r\nQ 24.75 6.390625 31.78125 6.390625 \r\nQ 38.8125 6.390625 42.859375 10.171875 \r\nQ 46.921875 13.96875 46.921875 20.515625 \r\nQ 46.921875 27.09375 42.890625 30.859375 \r\nQ 38.875 34.625 31.78125 34.625 \r\nz\r\nM 21.921875 38.8125 \r\nQ 15.578125 40.375 12.03125 44.71875 \r\nQ 8.5 49.078125 8.5 55.328125 \r\nQ 8.5 64.0625 14.71875 69.140625 \r\nQ 20.953125 74.21875 31.78125 74.21875 \r\nQ 42.671875 74.21875 48.875 69.140625 \r\nQ 55.078125 64.0625 55.078125 55.328125 \r\nQ 55.078125 49.078125 51.53125 44.71875 \r\nQ 48 40.375 41.703125 38.8125 \r\nQ 48.828125 37.15625 52.796875 32.3125 \r\nQ 56.78125 27.484375 56.78125 20.515625 \r\nQ 56.78125 9.90625 50.3125 4.234375 \r\nQ 43.84375 -1.421875 31.78125 -1.421875 \r\nQ 19.734375 -1.421875 13.25 4.234375 \r\nQ 6.78125 9.90625 6.78125 20.515625 \r\nQ 6.78125 27.484375 10.78125 32.3125 \r\nQ 14.796875 37.15625 21.921875 38.8125 \r\nz\r\nM 18.3125 54.390625 \r\nQ 18.3125 48.734375 21.84375 45.5625 \r\nQ 25.390625 42.390625 31.78125 42.390625 \r\nQ 38.140625 42.390625 41.71875 45.5625 \r\nQ 45.3125 48.734375 45.3125 54.390625 \r\nQ 45.3125 60.0625 41.71875 63.234375 \r\nQ 38.140625 66.40625 31.78125 66.40625 \r\nQ 25.390625 66.40625 21.84375 63.234375 \r\nQ 18.3125 60.0625 18.3125 54.390625 \r\nz\r\n\" id=\"DejaVuSans-56\"/>\r\n      </defs>\r\n      <g transform=\"translate(20.878125 58.159043)scale(0.1 -0.1)\">\r\n       <use xlink:href=\"#DejaVuSans-48\"/>\r\n       <use x=\"63.623047\" xlink:href=\"#DejaVuSans-46\"/>\r\n       <use x=\"95.410156\" xlink:href=\"#DejaVuSans-48\"/>\r\n       <use x=\"159.033203\" xlink:href=\"#DejaVuSans-56\"/>\r\n      </g>\r\n     </g>\r\n    </g>\r\n    <g id=\"ytick_6\">\r\n     <g id=\"line2d_9\">\r\n      <g>\r\n       <use style=\"stroke:#000000;stroke-width:0.8;\" x=\"50.14375\" xlink:href=\"#m75d37ee6aa\" y=\"10.999219\"/>\r\n      </g>\r\n     </g>\r\n     <g id=\"text_10\">\r\n      <!-- 0.10 -->\r\n      <defs>\r\n       <path d=\"M 12.40625 8.296875 \r\nL 28.515625 8.296875 \r\nL 28.515625 63.921875 \r\nL 10.984375 60.40625 \r\nL 10.984375 69.390625 \r\nL 28.421875 72.90625 \r\nL 38.28125 72.90625 \r\nL 38.28125 8.296875 \r\nL 54.390625 8.296875 \r\nL 54.390625 0 \r\nL 12.40625 0 \r\nz\r\n\" id=\"DejaVuSans-49\"/>\r\n      </defs>\r\n      <g transform=\"translate(20.878125 14.798438)scale(0.1 -0.1)\">\r\n       <use xlink:href=\"#DejaVuSans-48\"/>\r\n       <use x=\"63.623047\" xlink:href=\"#DejaVuSans-46\"/>\r\n       <use x=\"95.410156\" xlink:href=\"#DejaVuSans-49\"/>\r\n       <use x=\"159.033203\" xlink:href=\"#DejaVuSans-48\"/>\r\n      </g>\r\n     </g>\r\n    </g>\r\n    <g id=\"text_11\">\r\n     <!-- importance -->\r\n     <defs>\r\n      <path d=\"M 48.78125 52.59375 \r\nL 48.78125 44.1875 \r\nQ 44.96875 46.296875 41.140625 47.34375 \r\nQ 37.3125 48.390625 33.40625 48.390625 \r\nQ 24.65625 48.390625 19.8125 42.84375 \r\nQ 14.984375 37.3125 14.984375 27.296875 \r\nQ 14.984375 17.28125 19.8125 11.734375 \r\nQ 24.65625 6.203125 33.40625 6.203125 \r\nQ 37.3125 6.203125 41.140625 7.25 \r\nQ 44.96875 8.296875 48.78125 10.40625 \r\nL 48.78125 2.09375 \r\nQ 45.015625 0.34375 40.984375 -0.53125 \r\nQ 36.96875 -1.421875 32.421875 -1.421875 \r\nQ 20.0625 -1.421875 12.78125 6.34375 \r\nQ 5.515625 14.109375 5.515625 27.296875 \r\nQ 5.515625 40.671875 12.859375 48.328125 \r\nQ 20.21875 56 33.015625 56 \r\nQ 37.15625 56 41.109375 55.140625 \r\nQ 45.0625 54.296875 48.78125 52.59375 \r\nz\r\n\" id=\"DejaVuSans-99\"/>\r\n     </defs>\r\n     <g transform=\"translate(14.798438 147.649433)rotate(-90)scale(0.1 -0.1)\">\r\n      <use xlink:href=\"#DejaVuSans-105\"/>\r\n      <use x=\"27.783203\" xlink:href=\"#DejaVuSans-109\"/>\r\n      <use x=\"125.195312\" xlink:href=\"#DejaVuSans-112\"/>\r\n      <use x=\"188.671875\" xlink:href=\"#DejaVuSans-111\"/>\r\n      <use x=\"249.853516\" xlink:href=\"#DejaVuSans-114\"/>\r\n      <use x=\"290.966797\" xlink:href=\"#DejaVuSans-116\"/>\r\n      <use x=\"330.175781\" xlink:href=\"#DejaVuSans-97\"/>\r\n      <use x=\"391.455078\" xlink:href=\"#DejaVuSans-110\"/>\r\n      <use x=\"454.833984\" xlink:href=\"#DejaVuSans-99\"/>\r\n      <use x=\"509.814453\" xlink:href=\"#DejaVuSans-101\"/>\r\n     </g>\r\n    </g>\r\n   </g>\r\n   <g id=\"line2d_10\">\r\n    <path clip-path=\"url(#p9077d6d5eb)\" d=\"M 0 0 \r\n\" style=\"fill:none;stroke:#424242;stroke-linecap:square;stroke-width:2.7;\"/>\r\n   </g>\r\n   <g id=\"line2d_11\">\r\n    <path clip-path=\"url(#p9077d6d5eb)\" d=\"M 0 0 \r\n\" style=\"fill:none;stroke:#424242;stroke-linecap:square;stroke-width:2.7;\"/>\r\n   </g>\r\n   <g id=\"line2d_12\">\r\n    <path clip-path=\"url(#p9077d6d5eb)\" d=\"M 0 0 \r\n\" style=\"fill:none;stroke:#424242;stroke-linecap:square;stroke-width:2.7;\"/>\r\n   </g>\r\n   <g id=\"patch_6\">\r\n    <path d=\"M 50.14375 227.802246 \r\nL 50.14375 10.362246 \r\n\" style=\"fill:none;stroke:#000000;stroke-linecap:square;stroke-linejoin:miter;stroke-width:0.8;\"/>\r\n   </g>\r\n   <g id=\"patch_7\">\r\n    <path d=\"M 384.94375 227.802246 \r\nL 384.94375 10.362246 \r\n\" style=\"fill:none;stroke:#000000;stroke-linecap:square;stroke-linejoin:miter;stroke-width:0.8;\"/>\r\n   </g>\r\n   <g id=\"patch_8\">\r\n    <path d=\"M 50.14375 227.802246 \r\nL 384.94375 227.802246 \r\n\" style=\"fill:none;stroke:#000000;stroke-linecap:square;stroke-linejoin:miter;stroke-width:0.8;\"/>\r\n   </g>\r\n   <g id=\"patch_9\">\r\n    <path d=\"M 50.14375 10.362246 \r\nL 384.94375 10.362246 \r\n\" style=\"fill:none;stroke:#000000;stroke-linecap:square;stroke-linejoin:miter;stroke-width:0.8;\"/>\r\n   </g>\r\n  </g>\r\n </g>\r\n <defs>\r\n  <clipPath id=\"p9077d6d5eb\">\r\n   <rect height=\"217.44\" width=\"334.8\" x=\"50.14375\" y=\"10.362246\"/>\r\n  </clipPath>\r\n </defs>\r\n</svg>\r\n",
      "image/png": "[encoded data removed]"
     },
     "metadata": {
      "needs_background": "light"
     }
    }
   ],
   "source": [
    "feat_imp = pd.DataFrame(data= {'type':[x[0] for x in f_import] , 'importance':[x[1] for x in f_import]}).sort_values('importance', ascending= False)\n",
    "feat_imp\n",
    "sns.barplot(x='type',y='importance',data= feat_imp.head(3), orient=270)\n",
    "# sns.lineplot((x[0] for x in f_import) , (x[1] for x in f_import) )"
   ]
  },
  {
   "cell_type": "code",
   "execution_count": null,
   "metadata": {},
   "outputs": [],
   "source": []
  }
 ]
}