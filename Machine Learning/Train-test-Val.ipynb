{
 "metadata": {
  "language_info": {
   "codemirror_mode": {
    "name": "ipython",
    "version": 3
   },
   "file_extension": ".py",
   "mimetype": "text/x-python",
   "name": "python",
   "nbconvert_exporter": "python",
   "pygments_lexer": "ipython3",
   "version": "3.8.5-final"
  },
  "orig_nbformat": 2,
  "kernelspec": {
   "name": "python3",
   "display_name": "Python 3.8.5 64-bit",
   "metadata": {
    "interpreter": {
     "hash": "cda6b8cb8ba9d2d4cf56edc4782242358bcb1a4f8b69dfa96cc4c92110993375"
    }
   }
  }
 },
 "nbformat": 4,
 "nbformat_minor": 2,
 "cells": [
  {
   "cell_type": "code",
   "execution_count": 2,
   "metadata": {},
   "outputs": [],
   "source": [
    "import pandas as pd\n",
    "import numpy as np\n",
    "import shap\n",
    "\n",
    "from sklearn.naive_bayes import GaussianNB  \n",
    "from sklearn.model_selection import train_test_split\n",
    "from sklearn.model_selection import cross_val_score\n",
    "from sklearn.metrics import classification_report, confusion_matrix\n",
    "from sklearn.model_selection import StratifiedKFold\n",
    "from sklearn.metrics import accuracy_score\n",
    "\n",
    "import seaborn as sns\n",
    "import matplotlib.pyplot as plt"
   ]
  },
  {
   "cell_type": "code",
   "execution_count": 3,
   "metadata": {},
   "outputs": [
    {
     "output_type": "stream",
     "name": "stdout",
     "text": [
      "c:\\Users\\milad\\Documents\\GitHub\\arch7211-spring2021\\data\\room_info.csv\n"
     ]
    },
    {
     "output_type": "execute_result",
     "data": {
      "text/plain": [
       "   type_cleaned  path  type  classes  floor_index  num_sides  area  \\\n",
       "2       CarPort   279   279      279          279        279   279   \n",
       "6        Garage   414   414      414          414        414   414   \n",
       "4        Dining   954   954      954          954        954   954   \n",
       "12      Utility  1489  1489     1489         1489       1489  1489   \n",
       "11      Storage  1953  1953     1953         1953       1953  1953   \n",
       "10         Room  2116  2116     2116         2116       2116  2116   \n",
       "3        Closet  3041  3041     3041         3041       3041  3041   \n",
       "8    LivingRoom  4428  4428     4428         4428       4428  4428   \n",
       "7       Kitchen  4548  4548     4548         4548       4548  4548   \n",
       "5         Entry  6050  6050     6050         6050       6050  6050   \n",
       "0          Bath  7288  7288     7288         7288       7288  7288   \n",
       "9       Outdoor  7852  7852     7852         7852       7852  7852   \n",
       "1       Bedroom  7993  7993     7993         7993       7993  7993   \n",
       "\n",
       "    proportion_floor_area  perimeter  compactness  ...  contains_Sink  \\\n",
       "2                     279        279          279  ...            279   \n",
       "6                     414        414          414  ...            414   \n",
       "4                     954        954          954  ...            954   \n",
       "12                   1489       1489         1489  ...           1489   \n",
       "11                   1953       1953         1953  ...           1953   \n",
       "10                   2116       2116         2116  ...           2116   \n",
       "3                    3041       3041         3041  ...           3041   \n",
       "8                    4428       4428         4428  ...           4428   \n",
       "7                    4548       4548         4548  ...           4548   \n",
       "5                    6050       6050         6050  ...           6050   \n",
       "0                    7288       7288         7288  ...           7288   \n",
       "9                    7852       7852         7852  ...           7852   \n",
       "1                    7993       7993         7993  ...           7993   \n",
       "\n",
       "    contains_SpaceForAppliance  contains_Stove  contains_Toilet  \\\n",
       "2                          279             279              279   \n",
       "6                          414             414              414   \n",
       "4                          954             954              954   \n",
       "12                        1489            1489             1489   \n",
       "11                        1953            1953             1953   \n",
       "10                        2116            2116             2116   \n",
       "3                         3041            3041             3041   \n",
       "8                         4428            4428             4428   \n",
       "7                         4548            4548             4548   \n",
       "5                         6050            6050             6050   \n",
       "0                         7288            7288             7288   \n",
       "9                         7852            7852             7852   \n",
       "1                         7993            7993             7993   \n",
       "\n",
       "    contains_TumbleDryer  contains_Urinal  contains_WallCabinet  \\\n",
       "2                    279              279                   279   \n",
       "6                    414              414                   414   \n",
       "4                    954              954                   954   \n",
       "12                  1489             1489                  1489   \n",
       "11                  1953             1953                  1953   \n",
       "10                  2116             2116                  2116   \n",
       "3                   3041             3041                  3041   \n",
       "8                   4428             4428                  4428   \n",
       "7                   4548             4548                  4548   \n",
       "5                   6050             6050                  6050   \n",
       "0                   7288             7288                  7288   \n",
       "9                   7852             7852                  7852   \n",
       "1                   7993             7993                  7993   \n",
       "\n",
       "    contains_WashingMachine  contains_WaterTap  exclude  \n",
       "2                       279                279      279  \n",
       "6                       414                414      414  \n",
       "4                       954                954      954  \n",
       "12                     1489               1489     1489  \n",
       "11                     1953               1953     1953  \n",
       "10                     2116               2116     2116  \n",
       "3                      3041               3041     3041  \n",
       "8                      4428               4428     4428  \n",
       "7                      4548               4548     4548  \n",
       "5                      6050               6050     6050  \n",
       "0                      7288               7288     7288  \n",
       "9                      7852               7852     7852  \n",
       "1                      7993               7993     7993  \n",
       "\n",
       "[13 rows x 112 columns]"
      ],
      "text/html": "<div>\n<style scoped>\n    .dataframe tbody tr th:only-of-type {\n        vertical-align: middle;\n    }\n\n    .dataframe tbody tr th {\n        vertical-align: top;\n    }\n\n    .dataframe thead th {\n        text-align: right;\n    }\n</style>\n<table border=\"1\" class=\"dataframe\">\n  <thead>\n    <tr style=\"text-align: right;\">\n      <th></th>\n      <th>type_cleaned</th>\n      <th>path</th>\n      <th>type</th>\n      <th>classes</th>\n      <th>floor_index</th>\n      <th>num_sides</th>\n      <th>area</th>\n      <th>proportion_floor_area</th>\n      <th>perimeter</th>\n      <th>compactness</th>\n      <th>...</th>\n      <th>contains_Sink</th>\n      <th>contains_SpaceForAppliance</th>\n      <th>contains_Stove</th>\n      <th>contains_Toilet</th>\n      <th>contains_TumbleDryer</th>\n      <th>contains_Urinal</th>\n      <th>contains_WallCabinet</th>\n      <th>contains_WashingMachine</th>\n      <th>contains_WaterTap</th>\n      <th>exclude</th>\n    </tr>\n  </thead>\n  <tbody>\n    <tr>\n      <th>2</th>\n      <td>CarPort</td>\n      <td>279</td>\n      <td>279</td>\n      <td>279</td>\n      <td>279</td>\n      <td>279</td>\n      <td>279</td>\n      <td>279</td>\n      <td>279</td>\n      <td>279</td>\n      <td>...</td>\n      <td>279</td>\n      <td>279</td>\n      <td>279</td>\n      <td>279</td>\n      <td>279</td>\n      <td>279</td>\n      <td>279</td>\n      <td>279</td>\n      <td>279</td>\n      <td>279</td>\n    </tr>\n    <tr>\n      <th>6</th>\n      <td>Garage</td>\n      <td>414</td>\n      <td>414</td>\n      <td>414</td>\n      <td>414</td>\n      <td>414</td>\n      <td>414</td>\n      <td>414</td>\n      <td>414</td>\n      <td>414</td>\n      <td>...</td>\n      <td>414</td>\n      <td>414</td>\n      <td>414</td>\n      <td>414</td>\n      <td>414</td>\n      <td>414</td>\n      <td>414</td>\n      <td>414</td>\n      <td>414</td>\n      <td>414</td>\n    </tr>\n    <tr>\n      <th>4</th>\n      <td>Dining</td>\n      <td>954</td>\n      <td>954</td>\n      <td>954</td>\n      <td>954</td>\n      <td>954</td>\n      <td>954</td>\n      <td>954</td>\n      <td>954</td>\n      <td>954</td>\n      <td>...</td>\n      <td>954</td>\n      <td>954</td>\n      <td>954</td>\n      <td>954</td>\n      <td>954</td>\n      <td>954</td>\n      <td>954</td>\n      <td>954</td>\n      <td>954</td>\n      <td>954</td>\n    </tr>\n    <tr>\n      <th>12</th>\n      <td>Utility</td>\n      <td>1489</td>\n      <td>1489</td>\n      <td>1489</td>\n      <td>1489</td>\n      <td>1489</td>\n      <td>1489</td>\n      <td>1489</td>\n      <td>1489</td>\n      <td>1489</td>\n      <td>...</td>\n      <td>1489</td>\n      <td>1489</td>\n      <td>1489</td>\n      <td>1489</td>\n      <td>1489</td>\n      <td>1489</td>\n      <td>1489</td>\n      <td>1489</td>\n      <td>1489</td>\n      <td>1489</td>\n    </tr>\n    <tr>\n      <th>11</th>\n      <td>Storage</td>\n      <td>1953</td>\n      <td>1953</td>\n      <td>1953</td>\n      <td>1953</td>\n      <td>1953</td>\n      <td>1953</td>\n      <td>1953</td>\n      <td>1953</td>\n      <td>1953</td>\n      <td>...</td>\n      <td>1953</td>\n      <td>1953</td>\n      <td>1953</td>\n      <td>1953</td>\n      <td>1953</td>\n      <td>1953</td>\n      <td>1953</td>\n      <td>1953</td>\n      <td>1953</td>\n      <td>1953</td>\n    </tr>\n    <tr>\n      <th>10</th>\n      <td>Room</td>\n      <td>2116</td>\n      <td>2116</td>\n      <td>2116</td>\n      <td>2116</td>\n      <td>2116</td>\n      <td>2116</td>\n      <td>2116</td>\n      <td>2116</td>\n      <td>2116</td>\n      <td>...</td>\n      <td>2116</td>\n      <td>2116</td>\n      <td>2116</td>\n      <td>2116</td>\n      <td>2116</td>\n      <td>2116</td>\n      <td>2116</td>\n      <td>2116</td>\n      <td>2116</td>\n      <td>2116</td>\n    </tr>\n    <tr>\n      <th>3</th>\n      <td>Closet</td>\n      <td>3041</td>\n      <td>3041</td>\n      <td>3041</td>\n      <td>3041</td>\n      <td>3041</td>\n      <td>3041</td>\n      <td>3041</td>\n      <td>3041</td>\n      <td>3041</td>\n      <td>...</td>\n      <td>3041</td>\n      <td>3041</td>\n      <td>3041</td>\n      <td>3041</td>\n      <td>3041</td>\n      <td>3041</td>\n      <td>3041</td>\n      <td>3041</td>\n      <td>3041</td>\n      <td>3041</td>\n    </tr>\n    <tr>\n      <th>8</th>\n      <td>LivingRoom</td>\n      <td>4428</td>\n      <td>4428</td>\n      <td>4428</td>\n      <td>4428</td>\n      <td>4428</td>\n      <td>4428</td>\n      <td>4428</td>\n      <td>4428</td>\n      <td>4428</td>\n      <td>...</td>\n      <td>4428</td>\n      <td>4428</td>\n      <td>4428</td>\n      <td>4428</td>\n      <td>4428</td>\n      <td>4428</td>\n      <td>4428</td>\n      <td>4428</td>\n      <td>4428</td>\n      <td>4428</td>\n    </tr>\n    <tr>\n      <th>7</th>\n      <td>Kitchen</td>\n      <td>4548</td>\n      <td>4548</td>\n      <td>4548</td>\n      <td>4548</td>\n      <td>4548</td>\n      <td>4548</td>\n      <td>4548</td>\n      <td>4548</td>\n      <td>4548</td>\n      <td>...</td>\n      <td>4548</td>\n      <td>4548</td>\n      <td>4548</td>\n      <td>4548</td>\n      <td>4548</td>\n      <td>4548</td>\n      <td>4548</td>\n      <td>4548</td>\n      <td>4548</td>\n      <td>4548</td>\n    </tr>\n    <tr>\n      <th>5</th>\n      <td>Entry</td>\n      <td>6050</td>\n      <td>6050</td>\n      <td>6050</td>\n      <td>6050</td>\n      <td>6050</td>\n      <td>6050</td>\n      <td>6050</td>\n      <td>6050</td>\n      <td>6050</td>\n      <td>...</td>\n      <td>6050</td>\n      <td>6050</td>\n      <td>6050</td>\n      <td>6050</td>\n      <td>6050</td>\n      <td>6050</td>\n      <td>6050</td>\n      <td>6050</td>\n      <td>6050</td>\n      <td>6050</td>\n    </tr>\n    <tr>\n      <th>0</th>\n      <td>Bath</td>\n      <td>7288</td>\n      <td>7288</td>\n      <td>7288</td>\n      <td>7288</td>\n      <td>7288</td>\n      <td>7288</td>\n      <td>7288</td>\n      <td>7288</td>\n      <td>7288</td>\n      <td>...</td>\n      <td>7288</td>\n      <td>7288</td>\n      <td>7288</td>\n      <td>7288</td>\n      <td>7288</td>\n      <td>7288</td>\n      <td>7288</td>\n      <td>7288</td>\n      <td>7288</td>\n      <td>7288</td>\n    </tr>\n    <tr>\n      <th>9</th>\n      <td>Outdoor</td>\n      <td>7852</td>\n      <td>7852</td>\n      <td>7852</td>\n      <td>7852</td>\n      <td>7852</td>\n      <td>7852</td>\n      <td>7852</td>\n      <td>7852</td>\n      <td>7852</td>\n      <td>...</td>\n      <td>7852</td>\n      <td>7852</td>\n      <td>7852</td>\n      <td>7852</td>\n      <td>7852</td>\n      <td>7852</td>\n      <td>7852</td>\n      <td>7852</td>\n      <td>7852</td>\n      <td>7852</td>\n    </tr>\n    <tr>\n      <th>1</th>\n      <td>Bedroom</td>\n      <td>7993</td>\n      <td>7993</td>\n      <td>7993</td>\n      <td>7993</td>\n      <td>7993</td>\n      <td>7993</td>\n      <td>7993</td>\n      <td>7993</td>\n      <td>7993</td>\n      <td>...</td>\n      <td>7993</td>\n      <td>7993</td>\n      <td>7993</td>\n      <td>7993</td>\n      <td>7993</td>\n      <td>7993</td>\n      <td>7993</td>\n      <td>7993</td>\n      <td>7993</td>\n      <td>7993</td>\n    </tr>\n  </tbody>\n</table>\n<p>13 rows × 112 columns</p>\n</div>"
     },
     "metadata": {},
     "execution_count": 3
    }
   ],
   "source": [
    "# Import data\n",
    "from os.path import dirname, join\n",
    "from pathlib import Path\n",
    "# ROOT_DIR = dirname(os.path.abspath('ARCH7211-SPRING2021')) # This is your Project Root \n",
    "ROOT_DIR = dirname(os.path.abspath('ARCH7211-SPRING2021')) # This is your Project Root\n",
    "data_PATH = join(ROOT_DIR[:-16],\"data\",\"room_info.csv\")  # requires `import os`\n",
    "print(data_PATH)\n",
    "# input data\n",
    "data_raw = pd.read_csv(data_PATH)\n",
    "\n",
    "#Cleaning data and feature engineering\n",
    "exclusion = [\"Undefined\",\"UserDefined\",\"Other\",\"Elevated\"]\n",
    "merge = {\n",
    "    \"Sauna\": \"Bath\",\n",
    "    \"Den\":\"LivingRoom\",\n",
    "    \"Alcove\":\"LivingRoom\",\n",
    "    \"Library\": \"Room\",\n",
    "    \"RecreationRoom\":\"Room\",\n",
    "    \"DressingRoom\":'Closet',\n",
    "    \"Attic\" : \"Storage\",\n",
    "    \"Office\" : \"Room\",\n",
    "    \"TechnicalRoom\":\"Utility\",\n",
    "    \"DraughtLobby\" : \"Entry\",\n",
    "    \"Hall\" : \"Entry\",\n",
    "    \"Basement\" : \"Storage\"\n",
    "}\n",
    "\n",
    "data_raw[\"type_cleaned\"] = data_raw[\"type\"].apply(lambda x: merge.get(x,x))\n",
    "data_raw[\"exclude\"] = ~data_raw[\"type\"].isin(exclusion)\n",
    "\n",
    "data_cleaned = data_raw[~data_raw[\"type\"].isin(exclusion)]\n",
    "\n",
    "data_cleaned.groupby(\"type_cleaned\",as_index=False).count().sort_values(\"path\")"
   ]
  },
  {
   "cell_type": "code",
   "execution_count": 4,
   "metadata": {},
   "outputs": [],
   "source": [
    "# Merging two lists with unique values in return\n",
    "def dMerger(df1,df2):\n",
    "    container = df1\n",
    "    for data in df2:\n",
    "        if data not in container:\n",
    "            container.append(data)\n",
    "    return container \n",
    "\n",
    "# Check redundancy of columns in dataframes\n",
    "def colUniq (dframe):\n",
    "    temp = []\n",
    "    for col in dframe.columns:\n",
    "        if col not in temp:\n",
    "            temp.append(col)\n",
    "    return('num cols in df: ',len(dframe.columns),' num unique cols:',len(temp))\n",
    "\n",
    "#Save dataset to csv\n",
    "def Save_df(df,filename,dest_folder):\n",
    "    if len(df) >1 and 'list' in str(type(df)):\n",
    "        dSet_PATH = join(ROOT_DIR[:-16],dest_folder)\n",
    "        for i,dset in enumerate(df):\n",
    "            exp_path = join(dSet_PATH,filename[i])\n",
    "            dset.to_csv(exp_path, index= False)\n",
    "            print(filename[i],\" is saved in: \",exp_path)\n",
    "    elif type(df) != 'list':\n",
    "        dSet_PATH = join(ROOT_DIR[:-16],dest_folder)\n",
    "        exp_path = join(dSet_PATH,filename)\n",
    "        df.to_csv(exp_path,index= False, columns=df.columns)\n",
    "        print(filename,\" is saved in: \",exp_path)\n",
    "    print(\"\\nDone!\") "
   ]
  },
  {
   "cell_type": "code",
   "execution_count": 5,
   "metadata": {},
   "outputs": [],
   "source": [
    "# # Dividing the raw dataset into three sub categories (tier A,B,C)\n",
    "# # Tiers are: fur = furniture related features, con= space connectivity features, spc = space characteristics features\n",
    "# tier_fur = ['type_cleaned']\n",
    "# tier_spc = []\n",
    "# tier_con = ['type_cleaned']\n",
    "# for col in data_cleaned.columns:\n",
    "#     if 'contains_' in col:\n",
    "#         tier_fur.append(col)\n",
    "#     elif '_to_' in col:\n",
    "#         tier_con.append(col)\n",
    "#     else:\n",
    "#         tier_spc.append(col)\n",
    "# tier_2a = dMerger(tier_spc,tier_con)\n",
    "# tier_2b = dMerger(tier_spc,tier_fur)\n",
    "\n",
    "# col_select = {\n",
    "#     'tierA' : tier_fur,\n",
    "#     'tierB' : tier_con,\n",
    "#     'tierC' : tier_spc,\n",
    "#     'tier_2a' : tier_2a,\n",
    "#     'tier_2b' : tier_2b \n",
    "#             } \n"
   ]
  },
  {
   "cell_type": "code",
   "execution_count": 6,
   "metadata": {},
   "outputs": [],
   "source": [
    "#Defining Train and Target data\n",
    "shuffled_data = data_cleaned.sample(frac=1)\n",
    "X = shuffled_data.drop([x for x in['path','type','classes','open_to','door_to','contains','type_cleaned','exclude'] if x in shuffled_data.columns], axis =1)\n",
    "y = shuffled_data['type_cleaned']\n",
    "#Defining Train and Target data\n",
    "#Split the data into training data, and test data \n",
    "X_train , X_test, y_train, y_test = train_test_split(X,y, test_size= 0.3, stratify=y, random_state=31)\n",
    "X_train_train , X_train_val, y_train_train, y_train_val = train_test_split(X_train,y_train, test_size= 0.2, stratify=y_train, random_state=31)"
   ]
  },
  {
   "cell_type": "code",
   "execution_count": 7,
   "metadata": {},
   "outputs": [
    {
     "output_type": "stream",
     "name": "stdout",
     "text": [
      "X_train_train.csv  is saved in:  c:\\Users\\milad\\Documents\\GitHub\\arch7211-spring2021\\Train_Test_Val\\X_train_train.csv\n",
      "X_train_val.csv  is saved in:  c:\\Users\\milad\\Documents\\GitHub\\arch7211-spring2021\\Train_Test_Val\\X_train_val.csv\n",
      "y_train_train.csv  is saved in:  c:\\Users\\milad\\Documents\\GitHub\\arch7211-spring2021\\Train_Test_Val\\y_train_train.csv\n",
      "y_train_val.csv  is saved in:  c:\\Users\\milad\\Documents\\GitHub\\arch7211-spring2021\\Train_Test_Val\\y_train_val.csv\n",
      "X_test.csv  is saved in:  c:\\Users\\milad\\Documents\\GitHub\\arch7211-spring2021\\Train_Test_Val\\X_test.csv\n",
      "y_test.csv  is saved in:  c:\\Users\\milad\\Documents\\GitHub\\arch7211-spring2021\\Train_Test_Val\\y_test.csv\n",
      "\n",
      "Done!\n"
     ]
    }
   ],
   "source": [
    "dsets = [X_train_train,X_train_val,y_train_train,y_train_val,X_test,y_test]\n",
    "filenames = ['X_train_train.csv','X_train_val.csv','y_train_train.csv','y_train_val.csv','X_test.csv','y_test.csv']\n",
    "Save_df(dsets,filenames,'Train_Test_Val')"
   ]
  },
  {
   "cell_type": "code",
   "execution_count": 8,
   "metadata": {},
   "outputs": [
    {
     "output_type": "stream",
     "name": "stdout",
     "text": [
      "data_cleaned.csv  is saved in:  c:\\Users\\milad\\Documents\\GitHub\\arch7211-spring2021\\Train_Test_Val\\data_cleaned.csv\n\nDone!\n"
     ]
    }
   ],
   "source": [
    "Save_df(data_cleaned,'data_cleaned.csv','Train_Test_Val')"
   ]
  },
  {
   "cell_type": "code",
   "execution_count": 18,
   "metadata": {},
   "outputs": [
    {
     "output_type": "stream",
     "name": "stdout",
     "text": [
      "X_Train\n<class 'pandas.core.frame.DataFrame'>\nInt64Index: 27106 entries, 37389 to 54006\nColumns: 104 entries, floor_index to contains_WaterTap\ndtypes: float64(5), int64(99)\nmemory usage: 21.7 MB\nNone\n\n\ny_Train\n['Closet' 'Bedroom' 'Room' 'Storage' 'Outdoor' 'Kitchen' 'Dining' 'Bath'\n 'LivingRoom' 'Entry' 'Utility' 'Garage' 'CarPort'] 6777\n\n\nX_val\nValidation sets\n<class 'pandas.core.frame.DataFrame'>\nInt64Index: 6777 entries, 6233 to 39972\nColumns: 104 entries, floor_index to contains_WaterTap\ndtypes: float64(5), int64(99)\nmemory usage: 5.7 MB\nNone\n\n\ny_val\n['Outdoor' 'Dining' 'Bedroom' 'Entry' 'Bath' 'Room' 'LivingRoom' 'Kitchen'\n 'Closet' 'Utility' 'Storage' 'Garage' 'CarPort'] 6777\n"
     ]
    }
   ],
   "source": [
    "print('X_Train')\n",
    "print(X_train_train.info())\n",
    "print('\\n')\n",
    "print('y_Train')\n",
    "print(y_train_train.unique(),len(y_train_val))\n",
    "print('\\n')\n",
    "print('X_val')\n",
    "print('Validation sets')\n",
    "print(X_train_val.info())\n",
    "print('\\n')\n",
    "print('y_val')\n",
    "print(y_train_val.unique(), len(y_train_val))"
   ]
  },
  {
   "cell_type": "code",
   "execution_count": 11,
   "metadata": {},
   "outputs": [
    {
     "output_type": "stream",
     "name": "stdout",
     "text": [
      "['Closet' 'Bedroom' 'Room' 'Storage' 'Outdoor' 'Kitchen' 'Dining' 'Bath'\n 'LivingRoom' 'Entry' 'Utility' 'Garage' 'CarPort']\n"
     ]
    }
   ],
   "source": []
  },
  {
   "cell_type": "code",
   "execution_count": 12,
   "metadata": {},
   "outputs": [
    {
     "output_type": "stream",
     "name": "stdout",
     "text": [
      "['Outdoor' 'Dining' 'Bedroom' 'Entry' 'Bath' 'Room' 'LivingRoom' 'Kitchen'\n 'Closet' 'Utility' 'Storage' 'Garage' 'CarPort']\n"
     ]
    }
   ],
   "source": [
    "print(y_train_val.unique())"
   ]
  },
  {
   "cell_type": "code",
   "execution_count": 13,
   "metadata": {},
   "outputs": [
    {
     "output_type": "stream",
     "name": "stdout",
     "text": [
      "<class 'pandas.core.frame.DataFrame'>\nInt64Index: 6777 entries, 6233 to 39972\nColumns: 104 entries, floor_index to contains_WaterTap\ndtypes: float64(5), int64(99)\nmemory usage: 5.7 MB\nNone\n"
     ]
    }
   ],
   "source": [
    "print(X_train_val.info())"
   ]
  },
  {
   "cell_type": "code",
   "execution_count": null,
   "metadata": {},
   "outputs": [],
   "source": []
  }
 ]
}